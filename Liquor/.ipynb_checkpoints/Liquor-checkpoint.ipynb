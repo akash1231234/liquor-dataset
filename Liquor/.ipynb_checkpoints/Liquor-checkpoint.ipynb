{
 "cells": [
  {
   "cell_type": "markdown",
   "id": "a63c7530-0a83-45e3-b7f3-b05f3210b429",
   "metadata": {},
   "source": [
    "## Lets import the required libraries and import the data"
   ]
  },
  {
   "cell_type": "code",
   "execution_count": 1,
   "id": "8c03b07d-f93e-48b7-87b5-d956b2b74b20",
   "metadata": {},
   "outputs": [],
   "source": [
    "import pandas as pd\n",
    "import numpy as np\n",
    "import matplotlib.pyplot as plt\n",
    "import seaborn as sns\n",
    "%matplotlib inline\n",
    "import warnings\n",
    "warnings.filterwarnings('ignore')\n",
    "from datetime import datetime "
   ]
  },
  {
   "cell_type": "code",
   "execution_count": 2,
   "id": "e2ec2f0b-c75a-4c23-aa2a-534abef2a124",
   "metadata": {},
   "outputs": [
    {
     "data": {
      "text/html": [
       "<div>\n",
       "<style scoped>\n",
       "    .dataframe tbody tr th:only-of-type {\n",
       "        vertical-align: middle;\n",
       "    }\n",
       "\n",
       "    .dataframe tbody tr th {\n",
       "        vertical-align: top;\n",
       "    }\n",
       "\n",
       "    .dataframe thead th {\n",
       "        text-align: right;\n",
       "    }\n",
       "</style>\n",
       "<table border=\"1\" class=\"dataframe\">\n",
       "  <thead>\n",
       "    <tr style=\"text-align: right;\">\n",
       "      <th></th>\n",
       "      <th>date</th>\n",
       "      <th>convenience_store</th>\n",
       "      <th>store</th>\n",
       "      <th>name</th>\n",
       "      <th>address</th>\n",
       "      <th>city</th>\n",
       "      <th>zipcode</th>\n",
       "      <th>store_location</th>\n",
       "      <th>county_number</th>\n",
       "      <th>county</th>\n",
       "      <th>...</th>\n",
       "      <th>vendor_no</th>\n",
       "      <th>vendor</th>\n",
       "      <th>item</th>\n",
       "      <th>description</th>\n",
       "      <th>pack</th>\n",
       "      <th>liter_size</th>\n",
       "      <th>state_btl_cost</th>\n",
       "      <th>btl_price</th>\n",
       "      <th>bottle_qty</th>\n",
       "      <th>total</th>\n",
       "    </tr>\n",
       "  </thead>\n",
       "  <tbody>\n",
       "    <tr>\n",
       "      <th>0</th>\n",
       "      <td>2015-02-19</td>\n",
       "      <td>NaN</td>\n",
       "      <td>2190</td>\n",
       "      <td>Central City Liquor, Inc.</td>\n",
       "      <td>1460 2ND AVE</td>\n",
       "      <td>DES MOINES</td>\n",
       "      <td>50314</td>\n",
       "      <td>1460 2ND AVE\\nDES MOINES 50314\\n(41.6055703350...</td>\n",
       "      <td>77</td>\n",
       "      <td>Polk</td>\n",
       "      <td>...</td>\n",
       "      <td>421</td>\n",
       "      <td>Sazerac Co., Inc.</td>\n",
       "      <td>64858</td>\n",
       "      <td>Fireball Cinnamon Whiskey Mini Dispenser</td>\n",
       "      <td>1</td>\n",
       "      <td>3000</td>\n",
       "      <td>29.72</td>\n",
       "      <td>44.58</td>\n",
       "      <td>6</td>\n",
       "      <td>267.48</td>\n",
       "    </tr>\n",
       "    <tr>\n",
       "      <th>1</th>\n",
       "      <td>2015-02-09</td>\n",
       "      <td>NaN</td>\n",
       "      <td>2190</td>\n",
       "      <td>Central City Liquor, Inc.</td>\n",
       "      <td>1460 2ND AVE</td>\n",
       "      <td>DES MOINES</td>\n",
       "      <td>50314</td>\n",
       "      <td>1460 2ND AVE\\nDES MOINES 50314\\n(41.6055703350...</td>\n",
       "      <td>77</td>\n",
       "      <td>Polk</td>\n",
       "      <td>...</td>\n",
       "      <td>421</td>\n",
       "      <td>Sazerac Co., Inc.</td>\n",
       "      <td>64858</td>\n",
       "      <td>Fireball Cinnamon Whiskey Mini Dispenser</td>\n",
       "      <td>1</td>\n",
       "      <td>3000</td>\n",
       "      <td>29.72</td>\n",
       "      <td>44.58</td>\n",
       "      <td>5</td>\n",
       "      <td>222.90</td>\n",
       "    </tr>\n",
       "    <tr>\n",
       "      <th>2</th>\n",
       "      <td>2014-10-30</td>\n",
       "      <td>NaN</td>\n",
       "      <td>2190</td>\n",
       "      <td>Central City Liquor Inc.</td>\n",
       "      <td>1460 2ND AVE</td>\n",
       "      <td>DES MOINES</td>\n",
       "      <td>50314</td>\n",
       "      <td>1460 2ND AVE\\nDES MOINES 50314\\n(41.6055703350...</td>\n",
       "      <td>77</td>\n",
       "      <td>Polk</td>\n",
       "      <td>...</td>\n",
       "      <td>421</td>\n",
       "      <td>Sazerac Co. Inc.</td>\n",
       "      <td>64858</td>\n",
       "      <td>Fireball Cinnamon Whiskey Mini Dispenser</td>\n",
       "      <td>1</td>\n",
       "      <td>3000</td>\n",
       "      <td>29.72</td>\n",
       "      <td>44.58</td>\n",
       "      <td>6</td>\n",
       "      <td>267.48</td>\n",
       "    </tr>\n",
       "    <tr>\n",
       "      <th>3</th>\n",
       "      <td>2014-02-27</td>\n",
       "      <td>NaN</td>\n",
       "      <td>2190</td>\n",
       "      <td>Central City Liquor Inc.</td>\n",
       "      <td>1460 2ND AVE</td>\n",
       "      <td>DES MOINES</td>\n",
       "      <td>50314</td>\n",
       "      <td>1460 2ND AVE\\nDES MOINES 50314\\n(41.6055703350...</td>\n",
       "      <td>77</td>\n",
       "      <td>Polk</td>\n",
       "      <td>...</td>\n",
       "      <td>421</td>\n",
       "      <td>Sazerac Co. Inc.</td>\n",
       "      <td>64858</td>\n",
       "      <td>Fireball Cinnamon Whiskey Mini Dispenser</td>\n",
       "      <td>1</td>\n",
       "      <td>3000</td>\n",
       "      <td>29.72</td>\n",
       "      <td>44.58</td>\n",
       "      <td>1</td>\n",
       "      <td>44.58</td>\n",
       "    </tr>\n",
       "    <tr>\n",
       "      <th>4</th>\n",
       "      <td>2014-02-25</td>\n",
       "      <td>NaN</td>\n",
       "      <td>2190</td>\n",
       "      <td>Central City Liquor Inc.</td>\n",
       "      <td>1460 2ND AVE</td>\n",
       "      <td>DES MOINES</td>\n",
       "      <td>50314</td>\n",
       "      <td>1460 2ND AVE\\nDES MOINES 50314\\n(41.6055703350...</td>\n",
       "      <td>77</td>\n",
       "      <td>Polk</td>\n",
       "      <td>...</td>\n",
       "      <td>421</td>\n",
       "      <td>Sazerac Co. Inc.</td>\n",
       "      <td>64858</td>\n",
       "      <td>Fireball Cinnamon Whiskey Mini Dispenser</td>\n",
       "      <td>1</td>\n",
       "      <td>3000</td>\n",
       "      <td>29.72</td>\n",
       "      <td>44.58</td>\n",
       "      <td>1</td>\n",
       "      <td>44.58</td>\n",
       "    </tr>\n",
       "  </tbody>\n",
       "</table>\n",
       "<p>5 rows × 22 columns</p>\n",
       "</div>"
      ],
      "text/plain": [
       "         date convenience_store  store                       name  \\\n",
       "0  2015-02-19               NaN   2190  Central City Liquor, Inc.   \n",
       "1  2015-02-09               NaN   2190  Central City Liquor, Inc.   \n",
       "2  2014-10-30               NaN   2190   Central City Liquor Inc.   \n",
       "3  2014-02-27               NaN   2190   Central City Liquor Inc.   \n",
       "4  2014-02-25               NaN   2190   Central City Liquor Inc.   \n",
       "\n",
       "        address        city zipcode  \\\n",
       "0  1460 2ND AVE  DES MOINES   50314   \n",
       "1  1460 2ND AVE  DES MOINES   50314   \n",
       "2  1460 2ND AVE  DES MOINES   50314   \n",
       "3  1460 2ND AVE  DES MOINES   50314   \n",
       "4  1460 2ND AVE  DES MOINES   50314   \n",
       "\n",
       "                                      store_location  county_number county  \\\n",
       "0  1460 2ND AVE\\nDES MOINES 50314\\n(41.6055703350...             77   Polk   \n",
       "1  1460 2ND AVE\\nDES MOINES 50314\\n(41.6055703350...             77   Polk   \n",
       "2  1460 2ND AVE\\nDES MOINES 50314\\n(41.6055703350...             77   Polk   \n",
       "3  1460 2ND AVE\\nDES MOINES 50314\\n(41.6055703350...             77   Polk   \n",
       "4  1460 2ND AVE\\nDES MOINES 50314\\n(41.6055703350...             77   Polk   \n",
       "\n",
       "   ...  vendor_no             vendor   item  \\\n",
       "0  ...        421  Sazerac Co., Inc.  64858   \n",
       "1  ...        421  Sazerac Co., Inc.  64858   \n",
       "2  ...        421   Sazerac Co. Inc.  64858   \n",
       "3  ...        421   Sazerac Co. Inc.  64858   \n",
       "4  ...        421   Sazerac Co. Inc.  64858   \n",
       "\n",
       "                                description  pack liter_size  state_btl_cost  \\\n",
       "0  Fireball Cinnamon Whiskey Mini Dispenser     1       3000           29.72   \n",
       "1  Fireball Cinnamon Whiskey Mini Dispenser     1       3000           29.72   \n",
       "2  Fireball Cinnamon Whiskey Mini Dispenser     1       3000           29.72   \n",
       "3  Fireball Cinnamon Whiskey Mini Dispenser     1       3000           29.72   \n",
       "4  Fireball Cinnamon Whiskey Mini Dispenser     1       3000           29.72   \n",
       "\n",
       "   btl_price  bottle_qty   total  \n",
       "0      44.58           6  267.48  \n",
       "1      44.58           5  222.90  \n",
       "2      44.58           6  267.48  \n",
       "3      44.58           1   44.58  \n",
       "4      44.58           1   44.58  \n",
       "\n",
       "[5 rows x 22 columns]"
      ]
     },
     "execution_count": 2,
     "metadata": {},
     "output_type": "execute_result"
    }
   ],
   "source": [
    "data=pd.read_csv('liquor.csv')\n",
    "data.head()"
   ]
  },
  {
   "cell_type": "code",
   "execution_count": 3,
   "id": "038be6f7-4267-4544-aaaa-52cbd999174e",
   "metadata": {},
   "outputs": [
    {
     "data": {
      "text/html": [
       "<div>\n",
       "<style scoped>\n",
       "    .dataframe tbody tr th:only-of-type {\n",
       "        vertical-align: middle;\n",
       "    }\n",
       "\n",
       "    .dataframe tbody tr th {\n",
       "        vertical-align: top;\n",
       "    }\n",
       "\n",
       "    .dataframe thead th {\n",
       "        text-align: right;\n",
       "    }\n",
       "</style>\n",
       "<table border=\"1\" class=\"dataframe\">\n",
       "  <thead>\n",
       "    <tr style=\"text-align: right;\">\n",
       "      <th></th>\n",
       "      <th>store</th>\n",
       "      <th>county_number</th>\n",
       "      <th>category</th>\n",
       "      <th>vendor_no</th>\n",
       "      <th>item</th>\n",
       "      <th>pack</th>\n",
       "      <th>liter_size</th>\n",
       "      <th>state_btl_cost</th>\n",
       "      <th>btl_price</th>\n",
       "      <th>bottle_qty</th>\n",
       "      <th>total</th>\n",
       "    </tr>\n",
       "  </thead>\n",
       "  <tbody>\n",
       "    <tr>\n",
       "      <th>count</th>\n",
       "      <td>15000.000000</td>\n",
       "      <td>15000.000000</td>\n",
       "      <td>1.499800e+04</td>\n",
       "      <td>15000.000000</td>\n",
       "      <td>15000.000000</td>\n",
       "      <td>15000.000000</td>\n",
       "      <td>15000.000000</td>\n",
       "      <td>15000.000000</td>\n",
       "      <td>15000.000000</td>\n",
       "      <td>15000.000000</td>\n",
       "      <td>15000.000000</td>\n",
       "    </tr>\n",
       "    <tr>\n",
       "      <th>mean</th>\n",
       "      <td>2676.394733</td>\n",
       "      <td>55.853000</td>\n",
       "      <td>1.055319e+06</td>\n",
       "      <td>273.843000</td>\n",
       "      <td>62187.475933</td>\n",
       "      <td>5.071933</td>\n",
       "      <td>1656.268333</td>\n",
       "      <td>18.801447</td>\n",
       "      <td>28.232305</td>\n",
       "      <td>6.457067</td>\n",
       "      <td>140.498155</td>\n",
       "    </tr>\n",
       "    <tr>\n",
       "      <th>std</th>\n",
       "      <td>715.652801</td>\n",
       "      <td>27.667914</td>\n",
       "      <td>8.509810e+04</td>\n",
       "      <td>151.870782</td>\n",
       "      <td>130058.170521</td>\n",
       "      <td>1.797899</td>\n",
       "      <td>734.947907</td>\n",
       "      <td>30.064079</td>\n",
       "      <td>45.090493</td>\n",
       "      <td>19.931934</td>\n",
       "      <td>403.555041</td>\n",
       "    </tr>\n",
       "    <tr>\n",
       "      <th>min</th>\n",
       "      <td>2106.000000</td>\n",
       "      <td>0.000000</td>\n",
       "      <td>1.012200e+05</td>\n",
       "      <td>10.000000</td>\n",
       "      <td>411.000000</td>\n",
       "      <td>1.000000</td>\n",
       "      <td>375.000000</td>\n",
       "      <td>2.840000</td>\n",
       "      <td>4.260000</td>\n",
       "      <td>1.000000</td>\n",
       "      <td>4.260000</td>\n",
       "    </tr>\n",
       "    <tr>\n",
       "      <th>25%</th>\n",
       "      <td>2285.000000</td>\n",
       "      <td>30.000000</td>\n",
       "      <td>1.012210e+06</td>\n",
       "      <td>115.000000</td>\n",
       "      <td>26828.000000</td>\n",
       "      <td>5.000000</td>\n",
       "      <td>1000.000000</td>\n",
       "      <td>8.980000</td>\n",
       "      <td>13.500000</td>\n",
       "      <td>2.000000</td>\n",
       "      <td>44.580000</td>\n",
       "    </tr>\n",
       "    <tr>\n",
       "      <th>50%</th>\n",
       "      <td>2500.000000</td>\n",
       "      <td>61.000000</td>\n",
       "      <td>1.032200e+06</td>\n",
       "      <td>270.000000</td>\n",
       "      <td>38178.000000</td>\n",
       "      <td>6.000000</td>\n",
       "      <td>1750.000000</td>\n",
       "      <td>14.750000</td>\n",
       "      <td>22.130000</td>\n",
       "      <td>6.000000</td>\n",
       "      <td>82.260000</td>\n",
       "    </tr>\n",
       "    <tr>\n",
       "      <th>75%</th>\n",
       "      <td>2508.000000</td>\n",
       "      <td>77.000000</td>\n",
       "      <td>1.081300e+06</td>\n",
       "      <td>421.000000</td>\n",
       "      <td>64858.000000</td>\n",
       "      <td>6.000000</td>\n",
       "      <td>1750.000000</td>\n",
       "      <td>28.690000</td>\n",
       "      <td>43.040000</td>\n",
       "      <td>6.000000</td>\n",
       "      <td>135.000000</td>\n",
       "    </tr>\n",
       "    <tr>\n",
       "      <th>max</th>\n",
       "      <td>9001.000000</td>\n",
       "      <td>99.000000</td>\n",
       "      <td>1.701100e+06</td>\n",
       "      <td>971.000000</td>\n",
       "      <td>995381.000000</td>\n",
       "      <td>6.000000</td>\n",
       "      <td>6000.000000</td>\n",
       "      <td>1599.200000</td>\n",
       "      <td>2398.800000</td>\n",
       "      <td>600.000000</td>\n",
       "      <td>27495.000000</td>\n",
       "    </tr>\n",
       "  </tbody>\n",
       "</table>\n",
       "</div>"
      ],
      "text/plain": [
       "              store  county_number      category     vendor_no           item  \\\n",
       "count  15000.000000   15000.000000  1.499800e+04  15000.000000   15000.000000   \n",
       "mean    2676.394733      55.853000  1.055319e+06    273.843000   62187.475933   \n",
       "std      715.652801      27.667914  8.509810e+04    151.870782  130058.170521   \n",
       "min     2106.000000       0.000000  1.012200e+05     10.000000     411.000000   \n",
       "25%     2285.000000      30.000000  1.012210e+06    115.000000   26828.000000   \n",
       "50%     2500.000000      61.000000  1.032200e+06    270.000000   38178.000000   \n",
       "75%     2508.000000      77.000000  1.081300e+06    421.000000   64858.000000   \n",
       "max     9001.000000      99.000000  1.701100e+06    971.000000  995381.000000   \n",
       "\n",
       "               pack    liter_size  state_btl_cost     btl_price    bottle_qty  \\\n",
       "count  15000.000000  15000.000000    15000.000000  15000.000000  15000.000000   \n",
       "mean       5.071933   1656.268333       18.801447     28.232305      6.457067   \n",
       "std        1.797899    734.947907       30.064079     45.090493     19.931934   \n",
       "min        1.000000    375.000000        2.840000      4.260000      1.000000   \n",
       "25%        5.000000   1000.000000        8.980000     13.500000      2.000000   \n",
       "50%        6.000000   1750.000000       14.750000     22.130000      6.000000   \n",
       "75%        6.000000   1750.000000       28.690000     43.040000      6.000000   \n",
       "max        6.000000   6000.000000     1599.200000   2398.800000    600.000000   \n",
       "\n",
       "              total  \n",
       "count  15000.000000  \n",
       "mean     140.498155  \n",
       "std      403.555041  \n",
       "min        4.260000  \n",
       "25%       44.580000  \n",
       "50%       82.260000  \n",
       "75%      135.000000  \n",
       "max    27495.000000  "
      ]
     },
     "execution_count": 3,
     "metadata": {},
     "output_type": "execute_result"
    }
   ],
   "source": [
    "data.describe()"
   ]
  },
  {
   "cell_type": "markdown",
   "id": "2956080a-529f-469d-905d-b17c9c223a90",
   "metadata": {},
   "source": [
    "## As we can see that our target total has an outlier we will take care of it"
   ]
  },
  {
   "cell_type": "code",
   "execution_count": 4,
   "id": "83ed4dfd-40c5-42e2-a0de-e377cda36e0d",
   "metadata": {},
   "outputs": [
    {
     "data": {
      "text/plain": [
       "(15000, 22)"
      ]
     },
     "execution_count": 4,
     "metadata": {},
     "output_type": "execute_result"
    }
   ],
   "source": [
    "data.shape"
   ]
  },
  {
   "cell_type": "code",
   "execution_count": 5,
   "id": "a73ae553-d641-4387-ab38-02d177b123c7",
   "metadata": {},
   "outputs": [
    {
     "data": {
      "text/plain": [
       "date                     0\n",
       "convenience_store    14302\n",
       "store                    0\n",
       "name                     0\n",
       "address                  0\n",
       "city                     0\n",
       "zipcode                  0\n",
       "store_location           0\n",
       "county_number            0\n",
       "county                   1\n",
       "category                 2\n",
       "category_name            3\n",
       "vendor_no                0\n",
       "vendor                   0\n",
       "item                     0\n",
       "description              0\n",
       "pack                     0\n",
       "liter_size               0\n",
       "state_btl_cost           0\n",
       "btl_price                0\n",
       "bottle_qty               0\n",
       "total                    0\n",
       "dtype: int64"
      ]
     },
     "execution_count": 5,
     "metadata": {},
     "output_type": "execute_result"
    }
   ],
   "source": [
    "data.isnull().sum()"
   ]
  },
  {
   "cell_type": "markdown",
   "id": "71cc86ee-de71-45d4-8b91-7f83e7cb0334",
   "metadata": {},
   "source": [
    "## Handling the missing values"
   ]
  },
  {
   "cell_type": "code",
   "execution_count": 6,
   "id": "054e5b1d-c60d-4555-8d74-9b15a01d62ed",
   "metadata": {},
   "outputs": [],
   "source": [
    "data.drop('convenience_store',axis=1,inplace=True)\n",
    "#As there are many rows with no inputs we might as well drop it"
   ]
  },
  {
   "cell_type": "code",
   "execution_count": 7,
   "id": "ecd3d117-036b-4da0-9097-63d38c22943f",
   "metadata": {},
   "outputs": [],
   "source": [
    "data.dropna(axis=0,inplace=True)"
   ]
  },
  {
   "cell_type": "code",
   "execution_count": 8,
   "id": "bed89fb0-d876-4a43-8f32-be0e7e3ed2e2",
   "metadata": {},
   "outputs": [
    {
     "data": {
      "text/plain": [
       "date              0\n",
       "store             0\n",
       "name              0\n",
       "address           0\n",
       "city              0\n",
       "zipcode           0\n",
       "store_location    0\n",
       "county_number     0\n",
       "county            0\n",
       "category          0\n",
       "category_name     0\n",
       "vendor_no         0\n",
       "vendor            0\n",
       "item              0\n",
       "description       0\n",
       "pack              0\n",
       "liter_size        0\n",
       "state_btl_cost    0\n",
       "btl_price         0\n",
       "bottle_qty        0\n",
       "total             0\n",
       "dtype: int64"
      ]
     },
     "execution_count": 8,
     "metadata": {},
     "output_type": "execute_result"
    }
   ],
   "source": [
    "data.isnull().sum()"
   ]
  },
  {
   "cell_type": "code",
   "execution_count": 9,
   "id": "9e79f339-cd88-42a8-a00e-98011e4d651e",
   "metadata": {},
   "outputs": [
    {
     "data": {
      "text/plain": [
       "Index(['date', 'store', 'name', 'address', 'city', 'zipcode', 'store_location',\n",
       "       'county_number', 'county', 'category', 'category_name', 'vendor_no',\n",
       "       'vendor', 'item', 'description', 'pack', 'liter_size', 'state_btl_cost',\n",
       "       'btl_price', 'bottle_qty', 'total'],\n",
       "      dtype='object')"
      ]
     },
     "execution_count": 9,
     "metadata": {},
     "output_type": "execute_result"
    }
   ],
   "source": [
    "data.columns"
   ]
  },
  {
   "cell_type": "code",
   "execution_count": 10,
   "id": "e143eaa6-a071-41b0-a759-f7b1817d02a6",
   "metadata": {},
   "outputs": [
    {
     "name": "stdout",
     "output_type": "stream",
     "text": [
      "<class 'pandas.core.frame.DataFrame'>\n",
      "Int64Index: 14996 entries, 0 to 14999\n",
      "Data columns (total 21 columns):\n",
      " #   Column          Non-Null Count  Dtype  \n",
      "---  ------          --------------  -----  \n",
      " 0   date            14996 non-null  object \n",
      " 1   store           14996 non-null  int64  \n",
      " 2   name            14996 non-null  object \n",
      " 3   address         14996 non-null  object \n",
      " 4   city            14996 non-null  object \n",
      " 5   zipcode         14996 non-null  object \n",
      " 6   store_location  14996 non-null  object \n",
      " 7   county_number   14996 non-null  int64  \n",
      " 8   county          14996 non-null  object \n",
      " 9   category        14996 non-null  float64\n",
      " 10  category_name   14996 non-null  object \n",
      " 11  vendor_no       14996 non-null  int64  \n",
      " 12  vendor          14996 non-null  object \n",
      " 13  item            14996 non-null  int64  \n",
      " 14  description     14996 non-null  object \n",
      " 15  pack            14996 non-null  int64  \n",
      " 16  liter_size      14996 non-null  int64  \n",
      " 17  state_btl_cost  14996 non-null  float64\n",
      " 18  btl_price       14996 non-null  float64\n",
      " 19  bottle_qty      14996 non-null  int64  \n",
      " 20  total           14996 non-null  float64\n",
      "dtypes: float64(4), int64(7), object(10)\n",
      "memory usage: 2.5+ MB\n"
     ]
    }
   ],
   "source": [
    "data.info()"
   ]
  },
  {
   "cell_type": "markdown",
   "id": "9c0db314-1c23-4169-8590-b4959e53b997",
   "metadata": {},
   "source": [
    "### Looking at the categorical and numerical variables"
   ]
  },
  {
   "cell_type": "code",
   "execution_count": 11,
   "id": "435da6fe-2b52-448f-bc4b-7b7a70d63dea",
   "metadata": {},
   "outputs": [
    {
     "data": {
      "text/plain": [
       "Index(['store', 'county_number', 'category', 'vendor_no', 'item', 'pack',\n",
       "       'liter_size', 'state_btl_cost', 'btl_price', 'bottle_qty', 'total'],\n",
       "      dtype='object')"
      ]
     },
     "execution_count": 11,
     "metadata": {},
     "output_type": "execute_result"
    }
   ],
   "source": [
    "data.select_dtypes(include=[int,float]).columns"
   ]
  },
  {
   "cell_type": "markdown",
   "id": "225e96e4-c5a7-424c-85d3-61cee162bbc5",
   "metadata": {},
   "source": [
    "### We can see that there are total 11 numerical variables"
   ]
  },
  {
   "cell_type": "code",
   "execution_count": 12,
   "id": "90dda524-be50-41a9-b27b-2e1674af959c",
   "metadata": {},
   "outputs": [
    {
     "data": {
      "text/plain": [
       "Index(['date', 'name', 'address', 'city', 'zipcode', 'store_location',\n",
       "       'county', 'category_name', 'vendor', 'description'],\n",
       "      dtype='object')"
      ]
     },
     "execution_count": 12,
     "metadata": {},
     "output_type": "execute_result"
    }
   ],
   "source": [
    "data.select_dtypes(exclude=[int,float]).columns"
   ]
  },
  {
   "cell_type": "code",
   "execution_count": 13,
   "id": "84f8c8bd-c6ff-409c-8ad2-427ed7196d08",
   "metadata": {},
   "outputs": [
    {
     "data": {
      "text/plain": [
       "<AxesSubplot:xlabel='total'>"
      ]
     },
     "execution_count": 13,
     "metadata": {},
     "output_type": "execute_result"
    },
    {
     "data": {
      "image/png": "[encoded data removed]",
      "text/plain": [
       "<Figure size 432x288 with 1 Axes>"
      ]
     },
     "metadata": {
      "needs_background": "light"
     },
     "output_type": "display_data"
    }
   ],
   "source": [
    "sns.boxplot(data['total'])"
   ]
  },
  {
   "cell_type": "markdown",
   "id": "91448412-2170-425f-85ba-0557435c4b43",
   "metadata": {},
   "source": [
    "## WE can see that we have an outlier in target varibale its better to drop this"
   ]
  },
  {
   "cell_type": "code",
   "execution_count": 14,
   "id": "84751b92-73d8-4f89-8423-731566fb07f6",
   "metadata": {},
   "outputs": [
    {
     "data": {
      "text/plain": [
       "<AxesSubplot:xlabel='total', ylabel='Density'>"
      ]
     },
     "execution_count": 14,
     "metadata": {},
     "output_type": "execute_result"
    },
    {
     "data": {
      "image/png": "[encoded data removed]",
      "text/plain": [
       "<Figure size 432x288 with 1 Axes>"
      ]
     },
     "metadata": {
      "needs_background": "light"
     },
     "output_type": "display_data"
    }
   ],
   "source": [
    "sns.distplot(data['total'])"
   ]
  },
  {
   "cell_type": "code",
   "execution_count": 15,
   "id": "b252efb9-bed7-44d3-b12a-86b797b8bc06",
   "metadata": {},
   "outputs": [
    {
     "data": {
      "text/html": [
       "<div>\n",
       "<style scoped>\n",
       "    .dataframe tbody tr th:only-of-type {\n",
       "        vertical-align: middle;\n",
       "    }\n",
       "\n",
       "    .dataframe tbody tr th {\n",
       "        vertical-align: top;\n",
       "    }\n",
       "\n",
       "    .dataframe thead th {\n",
       "        text-align: right;\n",
       "    }\n",
       "</style>\n",
       "<table border=\"1\" class=\"dataframe\">\n",
       "  <thead>\n",
       "    <tr style=\"text-align: right;\">\n",
       "      <th></th>\n",
       "      <th>date</th>\n",
       "      <th>store</th>\n",
       "      <th>name</th>\n",
       "      <th>address</th>\n",
       "      <th>city</th>\n",
       "      <th>zipcode</th>\n",
       "      <th>store_location</th>\n",
       "      <th>county_number</th>\n",
       "      <th>county</th>\n",
       "      <th>category</th>\n",
       "      <th>...</th>\n",
       "      <th>vendor_no</th>\n",
       "      <th>vendor</th>\n",
       "      <th>item</th>\n",
       "      <th>description</th>\n",
       "      <th>pack</th>\n",
       "      <th>liter_size</th>\n",
       "      <th>state_btl_cost</th>\n",
       "      <th>btl_price</th>\n",
       "      <th>bottle_qty</th>\n",
       "      <th>total</th>\n",
       "    </tr>\n",
       "  </thead>\n",
       "  <tbody>\n",
       "    <tr>\n",
       "      <th>2420</th>\n",
       "      <td>2014-11-17</td>\n",
       "      <td>3814</td>\n",
       "      <td>Costco Wholesale #788</td>\n",
       "      <td>7205 MILLS CIVIC PKWY</td>\n",
       "      <td>WEST DES MOINES</td>\n",
       "      <td>50266</td>\n",
       "      <td>7205 MILLS CIVIC PKWY\\nWEST DES MOINES 50266\\n...</td>\n",
       "      <td>25</td>\n",
       "      <td>Dallas</td>\n",
       "      <td>1701100.0</td>\n",
       "      <td>...</td>\n",
       "      <td>260</td>\n",
       "      <td>Diageo Americas</td>\n",
       "      <td>866</td>\n",
       "      <td>Johnnie Walker Blue w/2 Glasses</td>\n",
       "      <td>3</td>\n",
       "      <td>750</td>\n",
       "      <td>130.0</td>\n",
       "      <td>195.0</td>\n",
       "      <td>141</td>\n",
       "      <td>27495.0</td>\n",
       "    </tr>\n",
       "  </tbody>\n",
       "</table>\n",
       "<p>1 rows × 21 columns</p>\n",
       "</div>"
      ],
      "text/plain": [
       "            date  store                   name                address  \\\n",
       "2420  2014-11-17   3814  Costco Wholesale #788  7205 MILLS CIVIC PKWY   \n",
       "\n",
       "                 city zipcode  \\\n",
       "2420  WEST DES MOINES   50266   \n",
       "\n",
       "                                         store_location  county_number  \\\n",
       "2420  7205 MILLS CIVIC PKWY\\nWEST DES MOINES 50266\\n...             25   \n",
       "\n",
       "      county   category  ... vendor_no           vendor item  \\\n",
       "2420  Dallas  1701100.0  ...       260  Diageo Americas  866   \n",
       "\n",
       "                          description pack  liter_size  state_btl_cost  \\\n",
       "2420  Johnnie Walker Blue w/2 Glasses    3         750           130.0   \n",
       "\n",
       "      btl_price  bottle_qty    total  \n",
       "2420      195.0         141  27495.0  \n",
       "\n",
       "[1 rows x 21 columns]"
      ]
     },
     "execution_count": 15,
     "metadata": {},
     "output_type": "execute_result"
    }
   ],
   "source": [
    "data[data['total']>10000]"
   ]
  },
  {
   "cell_type": "code",
   "execution_count": 16,
   "id": "3bb79616-9da7-4ab9-84ca-fbdd8970da75",
   "metadata": {},
   "outputs": [],
   "source": [
    "data.drop(data[(data['total']>10000)].index,axis=0,inplace=True)"
   ]
  },
  {
   "cell_type": "code",
   "execution_count": 17,
   "id": "58c1c0ec-e799-460c-882f-956808800c9c",
   "metadata": {},
   "outputs": [
    {
     "data": {
      "text/plain": [
       "<AxesSubplot:xlabel='total'>"
      ]
     },
     "execution_count": 17,
     "metadata": {},
     "output_type": "execute_result"
    },
    {
     "data": {
      "image/png": "[encoded data removed]",
      "text/plain": [
       "<Figure size 432x288 with 1 Axes>"
      ]
     },
     "metadata": {
      "needs_background": "light"
     },
     "output_type": "display_data"
    }
   ],
   "source": [
    "sns.boxplot(data['total'])"
   ]
  },
  {
   "cell_type": "code",
   "execution_count": 18,
   "id": "b6c5afa1-673c-44a4-9203-60600f5e82c4",
   "metadata": {},
   "outputs": [
    {
     "data": {
      "text/plain": [
       "9402.0"
      ]
     },
     "execution_count": 18,
     "metadata": {},
     "output_type": "execute_result"
    }
   ],
   "source": [
    "data['total'].max()"
   ]
  },
  {
   "cell_type": "code",
   "execution_count": 19,
   "id": "578caf93-7f93-4713-9d9e-9fee2c395a4c",
   "metadata": {},
   "outputs": [
    {
     "data": {
      "text/plain": [
       "<AxesSubplot:xlabel='total', ylabel='Density'>"
      ]
     },
     "execution_count": 19,
     "metadata": {},
     "output_type": "execute_result"
    },
    {
     "data": {
      "image/png": "[encoded data removed]",
      "text/plain": [
       "<Figure size 432x288 with 1 Axes>"
      ]
     },
     "metadata": {
      "needs_background": "light"
     },
     "output_type": "display_data"
    }
   ],
   "source": [
    "sns.distplot(data['total'])"
   ]
  },
  {
   "cell_type": "code",
   "execution_count": 20,
   "id": "4e74dbd7-0071-4a5e-9c23-74f4c0fc48e9",
   "metadata": {},
   "outputs": [
    {
     "data": {
      "text/plain": [
       "Index(['date', 'store', 'name', 'address', 'city', 'zipcode', 'store_location',\n",
       "       'county_number', 'county', 'category', 'category_name', 'vendor_no',\n",
       "       'vendor', 'item', 'description', 'pack', 'liter_size', 'state_btl_cost',\n",
       "       'btl_price', 'bottle_qty', 'total'],\n",
       "      dtype='object')"
      ]
     },
     "execution_count": 20,
     "metadata": {},
     "output_type": "execute_result"
    }
   ],
   "source": [
    "data.columns"
   ]
  },
  {
   "cell_type": "code",
   "execution_count": 21,
   "id": "ac2bf8bd-2e37-455b-9063-0ef72007e1bd",
   "metadata": {},
   "outputs": [
    {
     "name": "stdout",
     "output_type": "stream",
     "text": [
      "In date Total unique features are 229 \n",
      "In name Total unique features are 790 \n",
      "In address Total unique features are 657 \n",
      "In city Total unique features are 193 \n",
      "In zipcode Total unique features are 224 \n",
      "In store_location Total unique features are 659 \n",
      "In county Total unique features are 90 \n",
      "In category_name Total unique features are 48 \n",
      "In vendor Total unique features are 105 \n",
      "In description Total unique features are 795 \n"
     ]
    }
   ],
   "source": [
    "for columns in data.select_dtypes(include=[object]).columns:\n",
    "    print(f\"In {columns} Total unique features are {data[columns].nunique()} \")"
   ]
  },
  {
   "cell_type": "markdown",
   "id": "8bf0b6ad-9958-4782-8c21-abc7feb20689",
   "metadata": {},
   "source": [
    "### Categorical features"
   ]
  },
  {
   "cell_type": "code",
   "execution_count": 22,
   "id": "00b94e59-0bf8-48e6-8bb7-cd33fc03b27e",
   "metadata": {},
   "outputs": [],
   "source": [
    "data['date']=pd.to_datetime(data['date'])\n",
    "data['weekday']=data['date'].dt.day_name()\n",
    "data['day']=data['date'].dt.day\n",
    "data['month']=data['date'].dt.month\n",
    "data['year']=data['date'].dt.year"
   ]
  },
  {
   "cell_type": "code",
   "execution_count": 23,
   "id": "37f3e426-c993-49c4-8f13-479f3e079579",
   "metadata": {},
   "outputs": [],
   "source": [
    "data.drop('date',axis=1,inplace=True)"
   ]
  },
  {
   "cell_type": "code",
   "execution_count": 24,
   "id": "ed6f6b7b-71eb-4132-a09f-79dcdcc7ceea",
   "metadata": {},
   "outputs": [],
   "source": [
    "numerical_features=data.select_dtypes(include=[int,float]).columns\n",
    "categorical_features=data.select_dtypes(exclude=[int,float]).columns"
   ]
  },
  {
   "cell_type": "code",
   "execution_count": 25,
   "id": "ae881b12-e16c-49ce-bcc5-c9deeea7038c",
   "metadata": {},
   "outputs": [
    {
     "data": {
      "text/html": [
       "<div>\n",
       "<style scoped>\n",
       "    .dataframe tbody tr th:only-of-type {\n",
       "        vertical-align: middle;\n",
       "    }\n",
       "\n",
       "    .dataframe tbody tr th {\n",
       "        vertical-align: top;\n",
       "    }\n",
       "\n",
       "    .dataframe thead th {\n",
       "        text-align: right;\n",
       "    }\n",
       "</style>\n",
       "<table border=\"1\" class=\"dataframe\">\n",
       "  <thead>\n",
       "    <tr style=\"text-align: right;\">\n",
       "      <th></th>\n",
       "      <th>store</th>\n",
       "      <th>county_number</th>\n",
       "      <th>category</th>\n",
       "      <th>vendor_no</th>\n",
       "      <th>item</th>\n",
       "      <th>pack</th>\n",
       "      <th>liter_size</th>\n",
       "      <th>state_btl_cost</th>\n",
       "      <th>btl_price</th>\n",
       "      <th>bottle_qty</th>\n",
       "      <th>total</th>\n",
       "      <th>day</th>\n",
       "      <th>month</th>\n",
       "      <th>year</th>\n",
       "    </tr>\n",
       "  </thead>\n",
       "  <tbody>\n",
       "    <tr>\n",
       "      <th>0</th>\n",
       "      <td>2190</td>\n",
       "      <td>77</td>\n",
       "      <td>1081600.0</td>\n",
       "      <td>421</td>\n",
       "      <td>64858</td>\n",
       "      <td>1</td>\n",
       "      <td>3000</td>\n",
       "      <td>29.72</td>\n",
       "      <td>44.58</td>\n",
       "      <td>6</td>\n",
       "      <td>267.48</td>\n",
       "      <td>19</td>\n",
       "      <td>2</td>\n",
       "      <td>2015</td>\n",
       "    </tr>\n",
       "    <tr>\n",
       "      <th>1</th>\n",
       "      <td>2190</td>\n",
       "      <td>77</td>\n",
       "      <td>1081600.0</td>\n",
       "      <td>421</td>\n",
       "      <td>64858</td>\n",
       "      <td>1</td>\n",
       "      <td>3000</td>\n",
       "      <td>29.72</td>\n",
       "      <td>44.58</td>\n",
       "      <td>5</td>\n",
       "      <td>222.90</td>\n",
       "      <td>9</td>\n",
       "      <td>2</td>\n",
       "      <td>2015</td>\n",
       "    </tr>\n",
       "    <tr>\n",
       "      <th>2</th>\n",
       "      <td>2190</td>\n",
       "      <td>77</td>\n",
       "      <td>1081600.0</td>\n",
       "      <td>421</td>\n",
       "      <td>64858</td>\n",
       "      <td>1</td>\n",
       "      <td>3000</td>\n",
       "      <td>29.72</td>\n",
       "      <td>44.58</td>\n",
       "      <td>6</td>\n",
       "      <td>267.48</td>\n",
       "      <td>30</td>\n",
       "      <td>10</td>\n",
       "      <td>2014</td>\n",
       "    </tr>\n",
       "    <tr>\n",
       "      <th>3</th>\n",
       "      <td>2190</td>\n",
       "      <td>77</td>\n",
       "      <td>1081600.0</td>\n",
       "      <td>421</td>\n",
       "      <td>64858</td>\n",
       "      <td>1</td>\n",
       "      <td>3000</td>\n",
       "      <td>29.72</td>\n",
       "      <td>44.58</td>\n",
       "      <td>1</td>\n",
       "      <td>44.58</td>\n",
       "      <td>27</td>\n",
       "      <td>2</td>\n",
       "      <td>2014</td>\n",
       "    </tr>\n",
       "    <tr>\n",
       "      <th>4</th>\n",
       "      <td>2190</td>\n",
       "      <td>77</td>\n",
       "      <td>1081600.0</td>\n",
       "      <td>421</td>\n",
       "      <td>64858</td>\n",
       "      <td>1</td>\n",
       "      <td>3000</td>\n",
       "      <td>29.72</td>\n",
       "      <td>44.58</td>\n",
       "      <td>1</td>\n",
       "      <td>44.58</td>\n",
       "      <td>25</td>\n",
       "      <td>2</td>\n",
       "      <td>2014</td>\n",
       "    </tr>\n",
       "    <tr>\n",
       "      <th>...</th>\n",
       "      <td>...</td>\n",
       "      <td>...</td>\n",
       "      <td>...</td>\n",
       "      <td>...</td>\n",
       "      <td>...</td>\n",
       "      <td>...</td>\n",
       "      <td>...</td>\n",
       "      <td>...</td>\n",
       "      <td>...</td>\n",
       "      <td>...</td>\n",
       "      <td>...</td>\n",
       "      <td>...</td>\n",
       "      <td>...</td>\n",
       "      <td>...</td>\n",
       "    </tr>\n",
       "    <tr>\n",
       "      <th>14995</th>\n",
       "      <td>2508</td>\n",
       "      <td>57</td>\n",
       "      <td>1071100.0</td>\n",
       "      <td>395</td>\n",
       "      <td>58868</td>\n",
       "      <td>6</td>\n",
       "      <td>1750</td>\n",
       "      <td>8.20</td>\n",
       "      <td>12.30</td>\n",
       "      <td>18</td>\n",
       "      <td>221.40</td>\n",
       "      <td>12</td>\n",
       "      <td>2</td>\n",
       "      <td>2014</td>\n",
       "    </tr>\n",
       "    <tr>\n",
       "      <th>14996</th>\n",
       "      <td>2508</td>\n",
       "      <td>57</td>\n",
       "      <td>1071100.0</td>\n",
       "      <td>395</td>\n",
       "      <td>58872</td>\n",
       "      <td>6</td>\n",
       "      <td>1750</td>\n",
       "      <td>8.20</td>\n",
       "      <td>12.30</td>\n",
       "      <td>6</td>\n",
       "      <td>73.80</td>\n",
       "      <td>9</td>\n",
       "      <td>9</td>\n",
       "      <td>2014</td>\n",
       "    </tr>\n",
       "    <tr>\n",
       "      <th>14997</th>\n",
       "      <td>2508</td>\n",
       "      <td>57</td>\n",
       "      <td>1071100.0</td>\n",
       "      <td>395</td>\n",
       "      <td>58873</td>\n",
       "      <td>6</td>\n",
       "      <td>1750</td>\n",
       "      <td>8.20</td>\n",
       "      <td>12.30</td>\n",
       "      <td>12</td>\n",
       "      <td>147.60</td>\n",
       "      <td>12</td>\n",
       "      <td>2</td>\n",
       "      <td>2014</td>\n",
       "    </tr>\n",
       "    <tr>\n",
       "      <th>14998</th>\n",
       "      <td>2508</td>\n",
       "      <td>57</td>\n",
       "      <td>1071100.0</td>\n",
       "      <td>395</td>\n",
       "      <td>58875</td>\n",
       "      <td>6</td>\n",
       "      <td>1750</td>\n",
       "      <td>10.50</td>\n",
       "      <td>15.74</td>\n",
       "      <td>6</td>\n",
       "      <td>94.44</td>\n",
       "      <td>8</td>\n",
       "      <td>1</td>\n",
       "      <td>2014</td>\n",
       "    </tr>\n",
       "    <tr>\n",
       "      <th>14999</th>\n",
       "      <td>2508</td>\n",
       "      <td>57</td>\n",
       "      <td>1071100.0</td>\n",
       "      <td>395</td>\n",
       "      <td>58875</td>\n",
       "      <td>6</td>\n",
       "      <td>1750</td>\n",
       "      <td>9.50</td>\n",
       "      <td>14.74</td>\n",
       "      <td>12</td>\n",
       "      <td>176.88</td>\n",
       "      <td>12</td>\n",
       "      <td>3</td>\n",
       "      <td>2014</td>\n",
       "    </tr>\n",
       "  </tbody>\n",
       "</table>\n",
       "<p>14995 rows × 14 columns</p>\n",
       "</div>"
      ],
      "text/plain": [
       "       store  county_number   category  vendor_no   item  pack  liter_size  \\\n",
       "0       2190             77  1081600.0        421  64858     1        3000   \n",
       "1       2190             77  1081600.0        421  64858     1        3000   \n",
       "2       2190             77  1081600.0        421  64858     1        3000   \n",
       "3       2190             77  1081600.0        421  64858     1        3000   \n",
       "4       2190             77  1081600.0        421  64858     1        3000   \n",
       "...      ...            ...        ...        ...    ...   ...         ...   \n",
       "14995   2508             57  1071100.0        395  58868     6        1750   \n",
       "14996   2508             57  1071100.0        395  58872     6        1750   \n",
       "14997   2508             57  1071100.0        395  58873     6        1750   \n",
       "14998   2508             57  1071100.0        395  58875     6        1750   \n",
       "14999   2508             57  1071100.0        395  58875     6        1750   \n",
       "\n",
       "       state_btl_cost  btl_price  bottle_qty   total  day  month  year  \n",
       "0               29.72      44.58           6  267.48   19      2  2015  \n",
       "1               29.72      44.58           5  222.90    9      2  2015  \n",
       "2               29.72      44.58           6  267.48   30     10  2014  \n",
       "3               29.72      44.58           1   44.58   27      2  2014  \n",
       "4               29.72      44.58           1   44.58   25      2  2014  \n",
       "...               ...        ...         ...     ...  ...    ...   ...  \n",
       "14995            8.20      12.30          18  221.40   12      2  2014  \n",
       "14996            8.20      12.30           6   73.80    9      9  2014  \n",
       "14997            8.20      12.30          12  147.60   12      2  2014  \n",
       "14998           10.50      15.74           6   94.44    8      1  2014  \n",
       "14999            9.50      14.74          12  176.88   12      3  2014  \n",
       "\n",
       "[14995 rows x 14 columns]"
      ]
     },
     "execution_count": 25,
     "metadata": {},
     "output_type": "execute_result"
    }
   ],
   "source": [
    "data[numerical_features]"
   ]
  },
  {
   "cell_type": "code",
   "execution_count": 26,
   "id": "50b0adaf-3ace-4f26-b7db-1c5202daa4d0",
   "metadata": {
    "scrolled": true,
    "tags": []
   },
   "outputs": [
    {
     "data": {
      "image/png": "[encoded data removed]",
      "text/plain": [
       "<Figure size 1440x576 with 1 Axes>"
      ]
     },
     "metadata": {
      "needs_background": "light"
     },
     "output_type": "display_data"
    },
    {
     "data": {
      "image/png": "[encoded data removed]",
      "text/plain": [
       "<Figure size 1440x576 with 1 Axes>"
      ]
     },
     "metadata": {
      "needs_background": "light"
     },
     "output_type": "display_data"
    },
    {
     "data": {
      "image/png": "[encoded data removed]",
      "text/plain": [
       "<Figure size 1440x576 with 1 Axes>"
      ]
     },
     "metadata": {
      "needs_background": "light"
     },
     "output_type": "display_data"
    },
    {
     "data": {
      "image/png": "[encoded data removed]",
      "text/plain": [
       "<Figure size 1440x576 with 1 Axes>"
      ]
     },
     "metadata": {
      "needs_background": "light"
     },
     "output_type": "display_data"
    },
    {
     "data": {
      "image/png": "[encoded data removed]",
      "text/plain": [
       "<Figure size 1440x576 with 1 Axes>"
      ]
     },
     "metadata": {
      "needs_background": "light"
     },
     "output_type": "display_data"
    },
    {
     "data": {
      "image/png": "[encoded data removed]",
      "text/plain": [
       "<Figure size 1440x576 with 1 Axes>"
      ]
     },
     "metadata": {
      "needs_background": "light"
     },
     "output_type": "display_data"
    },
    {
     "data": {
      "image/png": "[encoded data removed]",
      "text/plain": [
       "<Figure size 1440x576 with 1 Axes>"
      ]
     },
     "metadata": {
      "needs_background": "light"
     },
     "output_type": "display_data"
    },
    {
     "data": {
      "image/png": "[encoded data removed]",
      "text/plain": [
       "<Figure size 1440x576 with 1 Axes>"
      ]
     },
     "metadata": {
      "needs_background": "light"
     },
     "output_type": "display_data"
    },
    {
     "data": {
      "image/png": "[encoded data removed]",
      "text/plain": [
       "<Figure size 1440x576 with 1 Axes>"
      ]
     },
     "metadata": {
      "needs_background": "light"
     },
     "output_type": "display_data"
    },
    {
     "data": {
      "image/png": "[encoded data removed]",
      "text/plain": [
       "<Figure size 1440x576 with 1 Axes>"
      ]
     },
     "metadata": {
      "needs_background": "light"
     },
     "output_type": "display_data"
    },
    {
     "data": {
      "image/png": "[encoded data removed]",
      "text/plain": [
       "<Figure size 1440x576 with 1 Axes>"
      ]
     },
     "metadata": {
      "needs_background": "light"
     },
     "output_type": "display_data"
    },
    {
     "data": {
      "image/png": "[encoded data removed]",
      "text/plain": [
       "<Figure size 1440x576 with 1 Axes>"
      ]
     },
     "metadata": {
      "needs_background": "light"
     },
     "output_type": "display_data"
    },
    {
     "data": {
      "image/png": "[encoded data removed]",
      "text/plain": [
       "<Figure size 1440x576 with 1 Axes>"
      ]
     },
     "metadata": {
      "needs_background": "light"
     },
     "output_type": "display_data"
    },
    {
     "data": {
      "image/png": "[encoded data removed]",
      "text/plain": [
       "<Figure size 1440x576 with 1 Axes>"
      ]
     },
     "metadata": {
      "needs_background": "light"
     },
     "output_type": "display_data"
    }
   ],
   "source": [
    "for columns in data[numerical_features]:\n",
    "    plt.figure(figsize=(20,8))\n",
    "    sns.barplot(x=data[columns],y=data['total'])\n",
    "    plt.show()"
   ]
  },
  {
   "cell_type": "code",
   "execution_count": 27,
   "id": "ccbf9e69-bbc6-42f8-9d33-8061a2b4d97a",
   "metadata": {},
   "outputs": [
    {
     "data": {
      "text/plain": [
       "Index(['store', 'county_number', 'category', 'vendor_no', 'item', 'pack',\n",
       "       'liter_size', 'state_btl_cost', 'btl_price', 'bottle_qty', 'total',\n",
       "       'day', 'month', 'year'],\n",
       "      dtype='object')"
      ]
     },
     "execution_count": 27,
     "metadata": {},
     "output_type": "execute_result"
    }
   ],
   "source": [
    "data[numerical_features].columns"
   ]
  },
  {
   "cell_type": "markdown",
   "id": "fbc9a6a8-c113-41fa-be87-a8e5b64f11fe",
   "metadata": {},
   "source": [
    "### Encoding the discrete variables and categorical variables"
   ]
  },
  {
   "cell_type": "code",
   "execution_count": 28,
   "id": "6b28aad3-a6e0-451d-bcdd-edc40073f67c",
   "metadata": {},
   "outputs": [
    {
     "data": {
      "text/html": [
       "<div>\n",
       "<style scoped>\n",
       "    .dataframe tbody tr th:only-of-type {\n",
       "        vertical-align: middle;\n",
       "    }\n",
       "\n",
       "    .dataframe tbody tr th {\n",
       "        vertical-align: top;\n",
       "    }\n",
       "\n",
       "    .dataframe thead th {\n",
       "        text-align: right;\n",
       "    }\n",
       "</style>\n",
       "<table border=\"1\" class=\"dataframe\">\n",
       "  <thead>\n",
       "    <tr style=\"text-align: right;\">\n",
       "      <th></th>\n",
       "      <th>name</th>\n",
       "      <th>address</th>\n",
       "      <th>city</th>\n",
       "      <th>zipcode</th>\n",
       "      <th>store_location</th>\n",
       "      <th>county</th>\n",
       "      <th>category_name</th>\n",
       "      <th>vendor</th>\n",
       "      <th>description</th>\n",
       "      <th>weekday</th>\n",
       "    </tr>\n",
       "  </thead>\n",
       "  <tbody>\n",
       "    <tr>\n",
       "      <th>0</th>\n",
       "      <td>Central City Liquor, Inc.</td>\n",
       "      <td>1460 2ND AVE</td>\n",
       "      <td>DES MOINES</td>\n",
       "      <td>50314</td>\n",
       "      <td>1460 2ND AVE\\nDES MOINES 50314\\n(41.6055703350...</td>\n",
       "      <td>Polk</td>\n",
       "      <td>WHISKEY LIQUEUR</td>\n",
       "      <td>Sazerac Co., Inc.</td>\n",
       "      <td>Fireball Cinnamon Whiskey Mini Dispenser</td>\n",
       "      <td>Thursday</td>\n",
       "    </tr>\n",
       "    <tr>\n",
       "      <th>1</th>\n",
       "      <td>Central City Liquor, Inc.</td>\n",
       "      <td>1460 2ND AVE</td>\n",
       "      <td>DES MOINES</td>\n",
       "      <td>50314</td>\n",
       "      <td>1460 2ND AVE\\nDES MOINES 50314\\n(41.6055703350...</td>\n",
       "      <td>Polk</td>\n",
       "      <td>WHISKEY LIQUEUR</td>\n",
       "      <td>Sazerac Co., Inc.</td>\n",
       "      <td>Fireball Cinnamon Whiskey Mini Dispenser</td>\n",
       "      <td>Monday</td>\n",
       "    </tr>\n",
       "    <tr>\n",
       "      <th>2</th>\n",
       "      <td>Central City Liquor Inc.</td>\n",
       "      <td>1460 2ND AVE</td>\n",
       "      <td>DES MOINES</td>\n",
       "      <td>50314</td>\n",
       "      <td>1460 2ND AVE\\nDES MOINES 50314\\n(41.6055703350...</td>\n",
       "      <td>Polk</td>\n",
       "      <td>WHISKEY LIQUEUR</td>\n",
       "      <td>Sazerac Co. Inc.</td>\n",
       "      <td>Fireball Cinnamon Whiskey Mini Dispenser</td>\n",
       "      <td>Thursday</td>\n",
       "    </tr>\n",
       "    <tr>\n",
       "      <th>3</th>\n",
       "      <td>Central City Liquor Inc.</td>\n",
       "      <td>1460 2ND AVE</td>\n",
       "      <td>DES MOINES</td>\n",
       "      <td>50314</td>\n",
       "      <td>1460 2ND AVE\\nDES MOINES 50314\\n(41.6055703350...</td>\n",
       "      <td>Polk</td>\n",
       "      <td>WHISKEY LIQUEUR</td>\n",
       "      <td>Sazerac Co. Inc.</td>\n",
       "      <td>Fireball Cinnamon Whiskey Mini Dispenser</td>\n",
       "      <td>Thursday</td>\n",
       "    </tr>\n",
       "    <tr>\n",
       "      <th>4</th>\n",
       "      <td>Central City Liquor Inc.</td>\n",
       "      <td>1460 2ND AVE</td>\n",
       "      <td>DES MOINES</td>\n",
       "      <td>50314</td>\n",
       "      <td>1460 2ND AVE\\nDES MOINES 50314\\n(41.6055703350...</td>\n",
       "      <td>Polk</td>\n",
       "      <td>WHISKEY LIQUEUR</td>\n",
       "      <td>Sazerac Co. Inc.</td>\n",
       "      <td>Fireball Cinnamon Whiskey Mini Dispenser</td>\n",
       "      <td>Tuesday</td>\n",
       "    </tr>\n",
       "    <tr>\n",
       "      <th>...</th>\n",
       "      <td>...</td>\n",
       "      <td>...</td>\n",
       "      <td>...</td>\n",
       "      <td>...</td>\n",
       "      <td>...</td>\n",
       "      <td>...</td>\n",
       "      <td>...</td>\n",
       "      <td>...</td>\n",
       "      <td>...</td>\n",
       "      <td>...</td>\n",
       "    </tr>\n",
       "    <tr>\n",
       "      <th>14995</th>\n",
       "      <td>Hy-vee Food Store #1/ceda</td>\n",
       "      <td>1843 JOHNSON AVENUE N.W.</td>\n",
       "      <td>CEDAR RAPIDS</td>\n",
       "      <td>52405</td>\n",
       "      <td>1843 JOHNSON AVENUE N.W.\\nCEDAR RAPIDS 52405\\n...</td>\n",
       "      <td>Linn</td>\n",
       "      <td>AMERICAN COCKTAILS</td>\n",
       "      <td>Proximo</td>\n",
       "      <td>Jose Cuervo Authentic Strawberry Margarita</td>\n",
       "      <td>Wednesday</td>\n",
       "    </tr>\n",
       "    <tr>\n",
       "      <th>14996</th>\n",
       "      <td>Hy-Vee Food Store #1 / Cedar Rapids</td>\n",
       "      <td>1843 JOHNSON AVENUE N.W.</td>\n",
       "      <td>CEDAR RAPIDS</td>\n",
       "      <td>52405</td>\n",
       "      <td>1843 JOHNSON AVENUE N.W.\\nCEDAR RAPIDS 52405\\n...</td>\n",
       "      <td>Linn</td>\n",
       "      <td>AMERICAN COCKTAILS</td>\n",
       "      <td>Proximo</td>\n",
       "      <td>Jose Cuervo Authentic Light Margarita Lime</td>\n",
       "      <td>Tuesday</td>\n",
       "    </tr>\n",
       "    <tr>\n",
       "      <th>14997</th>\n",
       "      <td>Hy-vee Food Store #1/ceda</td>\n",
       "      <td>1843 JOHNSON AVENUE N.W.</td>\n",
       "      <td>CEDAR RAPIDS</td>\n",
       "      <td>52405</td>\n",
       "      <td>1843 JOHNSON AVENUE N.W.\\nCEDAR RAPIDS 52405\\n...</td>\n",
       "      <td>Linn</td>\n",
       "      <td>AMERICAN COCKTAILS</td>\n",
       "      <td>Proximo</td>\n",
       "      <td>Jose Cuervo Authentic Watermelon Margarita</td>\n",
       "      <td>Wednesday</td>\n",
       "    </tr>\n",
       "    <tr>\n",
       "      <th>14998</th>\n",
       "      <td>Hy-vee Food Store #1/ceda</td>\n",
       "      <td>1843 JOHNSON AVENUE N.W.</td>\n",
       "      <td>CEDAR RAPIDS</td>\n",
       "      <td>52405</td>\n",
       "      <td>1843 JOHNSON AVENUE N.W.\\nCEDAR RAPIDS 52405\\n...</td>\n",
       "      <td>Linn</td>\n",
       "      <td>AMERICAN COCKTAILS</td>\n",
       "      <td>Proximo</td>\n",
       "      <td>Jose Cuervo Golden Margarita</td>\n",
       "      <td>Wednesday</td>\n",
       "    </tr>\n",
       "    <tr>\n",
       "      <th>14999</th>\n",
       "      <td>Hy-vee Food Store #1/Cedar Rapids</td>\n",
       "      <td>1843 JOHNSON AVENUE N.W.</td>\n",
       "      <td>CEDAR RAPIDS</td>\n",
       "      <td>52405</td>\n",
       "      <td>1843 JOHNSON AVENUE N.W.\\nCEDAR RAPIDS 52405\\n...</td>\n",
       "      <td>Linn</td>\n",
       "      <td>AMERICAN COCKTAILS</td>\n",
       "      <td>Proximo</td>\n",
       "      <td>Jose Cuervo Golden Margarita</td>\n",
       "      <td>Wednesday</td>\n",
       "    </tr>\n",
       "  </tbody>\n",
       "</table>\n",
       "<p>14995 rows × 10 columns</p>\n",
       "</div>"
      ],
      "text/plain": [
       "                                      name                   address  \\\n",
       "0                Central City Liquor, Inc.              1460 2ND AVE   \n",
       "1                Central City Liquor, Inc.              1460 2ND AVE   \n",
       "2                 Central City Liquor Inc.              1460 2ND AVE   \n",
       "3                 Central City Liquor Inc.              1460 2ND AVE   \n",
       "4                 Central City Liquor Inc.              1460 2ND AVE   \n",
       "...                                    ...                       ...   \n",
       "14995            Hy-vee Food Store #1/ceda  1843 JOHNSON AVENUE N.W.   \n",
       "14996  Hy-Vee Food Store #1 / Cedar Rapids  1843 JOHNSON AVENUE N.W.   \n",
       "14997            Hy-vee Food Store #1/ceda  1843 JOHNSON AVENUE N.W.   \n",
       "14998            Hy-vee Food Store #1/ceda  1843 JOHNSON AVENUE N.W.   \n",
       "14999    Hy-vee Food Store #1/Cedar Rapids  1843 JOHNSON AVENUE N.W.   \n",
       "\n",
       "               city zipcode  \\\n",
       "0        DES MOINES   50314   \n",
       "1        DES MOINES   50314   \n",
       "2        DES MOINES   50314   \n",
       "3        DES MOINES   50314   \n",
       "4        DES MOINES   50314   \n",
       "...             ...     ...   \n",
       "14995  CEDAR RAPIDS   52405   \n",
       "14996  CEDAR RAPIDS   52405   \n",
       "14997  CEDAR RAPIDS   52405   \n",
       "14998  CEDAR RAPIDS   52405   \n",
       "14999  CEDAR RAPIDS   52405   \n",
       "\n",
       "                                          store_location county  \\\n",
       "0      1460 2ND AVE\\nDES MOINES 50314\\n(41.6055703350...   Polk   \n",
       "1      1460 2ND AVE\\nDES MOINES 50314\\n(41.6055703350...   Polk   \n",
       "2      1460 2ND AVE\\nDES MOINES 50314\\n(41.6055703350...   Polk   \n",
       "3      1460 2ND AVE\\nDES MOINES 50314\\n(41.6055703350...   Polk   \n",
       "4      1460 2ND AVE\\nDES MOINES 50314\\n(41.6055703350...   Polk   \n",
       "...                                                  ...    ...   \n",
       "14995  1843 JOHNSON AVENUE N.W.\\nCEDAR RAPIDS 52405\\n...   Linn   \n",
       "14996  1843 JOHNSON AVENUE N.W.\\nCEDAR RAPIDS 52405\\n...   Linn   \n",
       "14997  1843 JOHNSON AVENUE N.W.\\nCEDAR RAPIDS 52405\\n...   Linn   \n",
       "14998  1843 JOHNSON AVENUE N.W.\\nCEDAR RAPIDS 52405\\n...   Linn   \n",
       "14999  1843 JOHNSON AVENUE N.W.\\nCEDAR RAPIDS 52405\\n...   Linn   \n",
       "\n",
       "            category_name             vendor  \\\n",
       "0         WHISKEY LIQUEUR  Sazerac Co., Inc.   \n",
       "1         WHISKEY LIQUEUR  Sazerac Co., Inc.   \n",
       "2         WHISKEY LIQUEUR   Sazerac Co. Inc.   \n",
       "3         WHISKEY LIQUEUR   Sazerac Co. Inc.   \n",
       "4         WHISKEY LIQUEUR   Sazerac Co. Inc.   \n",
       "...                   ...                ...   \n",
       "14995  AMERICAN COCKTAILS            Proximo   \n",
       "14996  AMERICAN COCKTAILS            Proximo   \n",
       "14997  AMERICAN COCKTAILS            Proximo   \n",
       "14998  AMERICAN COCKTAILS            Proximo   \n",
       "14999  AMERICAN COCKTAILS            Proximo   \n",
       "\n",
       "                                      description    weekday  \n",
       "0        Fireball Cinnamon Whiskey Mini Dispenser   Thursday  \n",
       "1        Fireball Cinnamon Whiskey Mini Dispenser     Monday  \n",
       "2        Fireball Cinnamon Whiskey Mini Dispenser   Thursday  \n",
       "3        Fireball Cinnamon Whiskey Mini Dispenser   Thursday  \n",
       "4        Fireball Cinnamon Whiskey Mini Dispenser    Tuesday  \n",
       "...                                           ...        ...  \n",
       "14995  Jose Cuervo Authentic Strawberry Margarita  Wednesday  \n",
       "14996  Jose Cuervo Authentic Light Margarita Lime    Tuesday  \n",
       "14997  Jose Cuervo Authentic Watermelon Margarita  Wednesday  \n",
       "14998                Jose Cuervo Golden Margarita  Wednesday  \n",
       "14999                Jose Cuervo Golden Margarita  Wednesday  \n",
       "\n",
       "[14995 rows x 10 columns]"
      ]
     },
     "execution_count": 28,
     "metadata": {},
     "output_type": "execute_result"
    }
   ],
   "source": [
    "data[categorical_features][:]"
   ]
  },
  {
   "cell_type": "code",
   "execution_count": 29,
   "id": "6a6397cf-9d18-4cdd-bfee-10b2e078d16b",
   "metadata": {},
   "outputs": [
    {
     "data": {
      "text/plain": [
       "Index(['name', 'address', 'city', 'zipcode', 'store_location', 'county',\n",
       "       'category_name', 'vendor', 'description', 'weekday'],\n",
       "      dtype='object')"
      ]
     },
     "execution_count": 29,
     "metadata": {},
     "output_type": "execute_result"
    }
   ],
   "source": [
    "categorical_features"
   ]
  },
  {
   "cell_type": "code",
   "execution_count": 30,
   "id": "89bdc19e-c1fe-45bb-b854-c5a98744ceef",
   "metadata": {},
   "outputs": [],
   "source": [
    "for categories in categorical_features:\n",
    "    category_dict=data[categories].value_counts().sort_values(ascending=False).to_dict()\n",
    "    data[categories+'_Enc']=data[categories].map(category_dict)"
   ]
  },
  {
   "cell_type": "code",
   "execution_count": 31,
   "id": "2eb3c496-36f6-4a95-b7a0-368726abcc6d",
   "metadata": {},
   "outputs": [
    {
     "data": {
      "text/html": [
       "<div>\n",
       "<style scoped>\n",
       "    .dataframe tbody tr th:only-of-type {\n",
       "        vertical-align: middle;\n",
       "    }\n",
       "\n",
       "    .dataframe tbody tr th {\n",
       "        vertical-align: top;\n",
       "    }\n",
       "\n",
       "    .dataframe thead th {\n",
       "        text-align: right;\n",
       "    }\n",
       "</style>\n",
       "<table border=\"1\" class=\"dataframe\">\n",
       "  <thead>\n",
       "    <tr style=\"text-align: right;\">\n",
       "      <th></th>\n",
       "      <th>store</th>\n",
       "      <th>county_number</th>\n",
       "      <th>category</th>\n",
       "      <th>vendor_no</th>\n",
       "      <th>item</th>\n",
       "      <th>pack</th>\n",
       "      <th>liter_size</th>\n",
       "      <th>state_btl_cost</th>\n",
       "      <th>btl_price</th>\n",
       "      <th>bottle_qty</th>\n",
       "      <th>total</th>\n",
       "      <th>day</th>\n",
       "      <th>month</th>\n",
       "      <th>year</th>\n",
       "    </tr>\n",
       "  </thead>\n",
       "  <tbody>\n",
       "    <tr>\n",
       "      <th>0</th>\n",
       "      <td>2190</td>\n",
       "      <td>77</td>\n",
       "      <td>1081600.0</td>\n",
       "      <td>421</td>\n",
       "      <td>64858</td>\n",
       "      <td>1</td>\n",
       "      <td>3000</td>\n",
       "      <td>29.72</td>\n",
       "      <td>44.58</td>\n",
       "      <td>6</td>\n",
       "      <td>267.48</td>\n",
       "      <td>19</td>\n",
       "      <td>2</td>\n",
       "      <td>2015</td>\n",
       "    </tr>\n",
       "    <tr>\n",
       "      <th>1</th>\n",
       "      <td>2190</td>\n",
       "      <td>77</td>\n",
       "      <td>1081600.0</td>\n",
       "      <td>421</td>\n",
       "      <td>64858</td>\n",
       "      <td>1</td>\n",
       "      <td>3000</td>\n",
       "      <td>29.72</td>\n",
       "      <td>44.58</td>\n",
       "      <td>5</td>\n",
       "      <td>222.90</td>\n",
       "      <td>9</td>\n",
       "      <td>2</td>\n",
       "      <td>2015</td>\n",
       "    </tr>\n",
       "    <tr>\n",
       "      <th>2</th>\n",
       "      <td>2190</td>\n",
       "      <td>77</td>\n",
       "      <td>1081600.0</td>\n",
       "      <td>421</td>\n",
       "      <td>64858</td>\n",
       "      <td>1</td>\n",
       "      <td>3000</td>\n",
       "      <td>29.72</td>\n",
       "      <td>44.58</td>\n",
       "      <td>6</td>\n",
       "      <td>267.48</td>\n",
       "      <td>30</td>\n",
       "      <td>10</td>\n",
       "      <td>2014</td>\n",
       "    </tr>\n",
       "    <tr>\n",
       "      <th>3</th>\n",
       "      <td>2190</td>\n",
       "      <td>77</td>\n",
       "      <td>1081600.0</td>\n",
       "      <td>421</td>\n",
       "      <td>64858</td>\n",
       "      <td>1</td>\n",
       "      <td>3000</td>\n",
       "      <td>29.72</td>\n",
       "      <td>44.58</td>\n",
       "      <td>1</td>\n",
       "      <td>44.58</td>\n",
       "      <td>27</td>\n",
       "      <td>2</td>\n",
       "      <td>2014</td>\n",
       "    </tr>\n",
       "    <tr>\n",
       "      <th>4</th>\n",
       "      <td>2190</td>\n",
       "      <td>77</td>\n",
       "      <td>1081600.0</td>\n",
       "      <td>421</td>\n",
       "      <td>64858</td>\n",
       "      <td>1</td>\n",
       "      <td>3000</td>\n",
       "      <td>29.72</td>\n",
       "      <td>44.58</td>\n",
       "      <td>1</td>\n",
       "      <td>44.58</td>\n",
       "      <td>25</td>\n",
       "      <td>2</td>\n",
       "      <td>2014</td>\n",
       "    </tr>\n",
       "    <tr>\n",
       "      <th>...</th>\n",
       "      <td>...</td>\n",
       "      <td>...</td>\n",
       "      <td>...</td>\n",
       "      <td>...</td>\n",
       "      <td>...</td>\n",
       "      <td>...</td>\n",
       "      <td>...</td>\n",
       "      <td>...</td>\n",
       "      <td>...</td>\n",
       "      <td>...</td>\n",
       "      <td>...</td>\n",
       "      <td>...</td>\n",
       "      <td>...</td>\n",
       "      <td>...</td>\n",
       "    </tr>\n",
       "    <tr>\n",
       "      <th>14995</th>\n",
       "      <td>2508</td>\n",
       "      <td>57</td>\n",
       "      <td>1071100.0</td>\n",
       "      <td>395</td>\n",
       "      <td>58868</td>\n",
       "      <td>6</td>\n",
       "      <td>1750</td>\n",
       "      <td>8.20</td>\n",
       "      <td>12.30</td>\n",
       "      <td>18</td>\n",
       "      <td>221.40</td>\n",
       "      <td>12</td>\n",
       "      <td>2</td>\n",
       "      <td>2014</td>\n",
       "    </tr>\n",
       "    <tr>\n",
       "      <th>14996</th>\n",
       "      <td>2508</td>\n",
       "      <td>57</td>\n",
       "      <td>1071100.0</td>\n",
       "      <td>395</td>\n",
       "      <td>58872</td>\n",
       "      <td>6</td>\n",
       "      <td>1750</td>\n",
       "      <td>8.20</td>\n",
       "      <td>12.30</td>\n",
       "      <td>6</td>\n",
       "      <td>73.80</td>\n",
       "      <td>9</td>\n",
       "      <td>9</td>\n",
       "      <td>2014</td>\n",
       "    </tr>\n",
       "    <tr>\n",
       "      <th>14997</th>\n",
       "      <td>2508</td>\n",
       "      <td>57</td>\n",
       "      <td>1071100.0</td>\n",
       "      <td>395</td>\n",
       "      <td>58873</td>\n",
       "      <td>6</td>\n",
       "      <td>1750</td>\n",
       "      <td>8.20</td>\n",
       "      <td>12.30</td>\n",
       "      <td>12</td>\n",
       "      <td>147.60</td>\n",
       "      <td>12</td>\n",
       "      <td>2</td>\n",
       "      <td>2014</td>\n",
       "    </tr>\n",
       "    <tr>\n",
       "      <th>14998</th>\n",
       "      <td>2508</td>\n",
       "      <td>57</td>\n",
       "      <td>1071100.0</td>\n",
       "      <td>395</td>\n",
       "      <td>58875</td>\n",
       "      <td>6</td>\n",
       "      <td>1750</td>\n",
       "      <td>10.50</td>\n",
       "      <td>15.74</td>\n",
       "      <td>6</td>\n",
       "      <td>94.44</td>\n",
       "      <td>8</td>\n",
       "      <td>1</td>\n",
       "      <td>2014</td>\n",
       "    </tr>\n",
       "    <tr>\n",
       "      <th>14999</th>\n",
       "      <td>2508</td>\n",
       "      <td>57</td>\n",
       "      <td>1071100.0</td>\n",
       "      <td>395</td>\n",
       "      <td>58875</td>\n",
       "      <td>6</td>\n",
       "      <td>1750</td>\n",
       "      <td>9.50</td>\n",
       "      <td>14.74</td>\n",
       "      <td>12</td>\n",
       "      <td>176.88</td>\n",
       "      <td>12</td>\n",
       "      <td>3</td>\n",
       "      <td>2014</td>\n",
       "    </tr>\n",
       "  </tbody>\n",
       "</table>\n",
       "<p>14995 rows × 14 columns</p>\n",
       "</div>"
      ],
      "text/plain": [
       "       store  county_number   category  vendor_no   item  pack  liter_size  \\\n",
       "0       2190             77  1081600.0        421  64858     1        3000   \n",
       "1       2190             77  1081600.0        421  64858     1        3000   \n",
       "2       2190             77  1081600.0        421  64858     1        3000   \n",
       "3       2190             77  1081600.0        421  64858     1        3000   \n",
       "4       2190             77  1081600.0        421  64858     1        3000   \n",
       "...      ...            ...        ...        ...    ...   ...         ...   \n",
       "14995   2508             57  1071100.0        395  58868     6        1750   \n",
       "14996   2508             57  1071100.0        395  58872     6        1750   \n",
       "14997   2508             57  1071100.0        395  58873     6        1750   \n",
       "14998   2508             57  1071100.0        395  58875     6        1750   \n",
       "14999   2508             57  1071100.0        395  58875     6        1750   \n",
       "\n",
       "       state_btl_cost  btl_price  bottle_qty   total  day  month  year  \n",
       "0               29.72      44.58           6  267.48   19      2  2015  \n",
       "1               29.72      44.58           5  222.90    9      2  2015  \n",
       "2               29.72      44.58           6  267.48   30     10  2014  \n",
       "3               29.72      44.58           1   44.58   27      2  2014  \n",
       "4               29.72      44.58           1   44.58   25      2  2014  \n",
       "...               ...        ...         ...     ...  ...    ...   ...  \n",
       "14995            8.20      12.30          18  221.40   12      2  2014  \n",
       "14996            8.20      12.30           6   73.80    9      9  2014  \n",
       "14997            8.20      12.30          12  147.60   12      2  2014  \n",
       "14998           10.50      15.74           6   94.44    8      1  2014  \n",
       "14999            9.50      14.74          12  176.88   12      3  2014  \n",
       "\n",
       "[14995 rows x 14 columns]"
      ]
     },
     "execution_count": 31,
     "metadata": {},
     "output_type": "execute_result"
    }
   ],
   "source": [
    "data[numerical_features]"
   ]
  },
  {
   "cell_type": "code",
   "execution_count": 32,
   "id": "12a9e1a3-9188-4732-b16a-49330cc834b8",
   "metadata": {
    "scrolled": true,
    "tags": []
   },
   "outputs": [
    {
     "data": {
      "image/png": "[encoded data removed]",
      "text/plain": [
       "<Figure size 1440x576 with 1 Axes>"
      ]
     },
     "metadata": {
      "needs_background": "light"
     },
     "output_type": "display_data"
    },
    {
     "data": {
      "image/png": "[encoded data removed]",
      "text/plain": [
       "<Figure size 1440x576 with 1 Axes>"
      ]
     },
     "metadata": {
      "needs_background": "light"
     },
     "output_type": "display_data"
    },
    {
     "data": {
      "image/png": "[encoded data removed]",
      "text/plain": [
       "<Figure size 1440x576 with 1 Axes>"
      ]
     },
     "metadata": {
      "needs_background": "light"
     },
     "output_type": "display_data"
    },
    {
     "data": {
      "image/png": "[encoded data removed]",
      "text/plain": [
       "<Figure size 1440x576 with 1 Axes>"
      ]
     },
     "metadata": {
      "needs_background": "light"
     },
     "output_type": "display_data"
    },
    {
     "data": {
      "image/png": "[encoded data removed]",
      "text/plain": [
       "<Figure size 1440x576 with 1 Axes>"
      ]
     },
     "metadata": {
      "needs_background": "light"
     },
     "output_type": "display_data"
    }
   ],
   "source": [
    "for columns in data.iloc[:,-5:]:\n",
    "    plt.figure(figsize=(20,8))\n",
    "    sns.barplot(x=data[columns],y=data['total'])\n",
    "    plt.show()"
   ]
  },
  {
   "cell_type": "code",
   "execution_count": 33,
   "id": "b336b496-22e4-4575-9382-1733a658fd76",
   "metadata": {},
   "outputs": [
    {
     "data": {
      "text/plain": [
       "Index(['store', 'county_number', 'category', 'vendor_no', 'item', 'pack',\n",
       "       'liter_size', 'state_btl_cost', 'btl_price', 'bottle_qty', 'total',\n",
       "       'day', 'month', 'year'],\n",
       "      dtype='object')"
      ]
     },
     "execution_count": 33,
     "metadata": {},
     "output_type": "execute_result"
    }
   ],
   "source": [
    "numerical_features"
   ]
  },
  {
   "cell_type": "code",
   "execution_count": 34,
   "id": "b89de38f-e680-416a-b238-fa04ac58abbf",
   "metadata": {},
   "outputs": [
    {
     "data": {
      "text/plain": [
       "Index(['store', 'county_number', 'category', 'vendor_no', 'item', 'pack',\n",
       "       'liter_size', 'state_btl_cost', 'btl_price', 'bottle_qty', 'day',\n",
       "       'month', 'year'],\n",
       "      dtype='object')"
      ]
     },
     "execution_count": 34,
     "metadata": {},
     "output_type": "execute_result"
    }
   ],
   "source": [
    "numerical_features=numerical_features.drop('total')\n",
    "numerical_features"
   ]
  },
  {
   "cell_type": "code",
   "execution_count": 40,
   "id": "fe6245d2-a7d6-4b36-8582-9cb8e3e77bd6",
   "metadata": {},
   "outputs": [
    {
     "data": {
      "text/plain": [
       "Index(['store', 'county_number', 'category', 'vendor_no', 'item', 'liter_size',\n",
       "       'btl_price', 'total', 'day', 'month', 'year'],\n",
       "      dtype='object')"
      ]
     },
     "execution_count": 40,
     "metadata": {},
     "output_type": "execute_result"
    }
   ],
   "source": [
    "numerical_features"
   ]
  },
  {
   "cell_type": "code",
   "execution_count": null,
   "id": "22a787f3-787b-4722-905f-4221da9741b0",
   "metadata": {},
   "outputs": [],
   "source": [
    "plt.figure(figsize=(20,12))\n",
    "sns.heatmap(data[numerical_features].corr(),annot=True,cmap='viridis')"
   ]
  },
  {
   "cell_type": "markdown",
   "id": "0ee20221-4508-4a00-b29e-aa4852134b2e",
   "metadata": {},
   "source": [
    "### As we see that two features have more than 70% correlation we will drop one of those features"
   ]
  },
  {
   "cell_type": "code",
   "execution_count": 36,
   "id": "eba5fd45-7557-499a-9da0-3b8fd7d0fe6e",
   "metadata": {},
   "outputs": [],
   "source": [
    "threshold=0.7\n",
    "corr_list=[]\n",
    "for column1 in numerical_features:\n",
    "    for column2 in numerical_features:\n",
    "        if column1!=column2:\n",
    "            if (abs(round(data[[column1,column2]].corr(),2))>=threshold).iloc[1:,:1].values:\n",
    "                flag=1\n",
    "                if flag==1:\n",
    "                    numerical_features=numerical_features.drop(column1)\n",
    "                    corr_list.append(column1)\n",
    "data.drop(corr_list,inplace=True,axis=1)              "
   ]
  },
  {
   "cell_type": "code",
   "execution_count": 37,
   "id": "96cbbffe-9e7a-409f-bdea-bd5d910114b5",
   "metadata": {},
   "outputs": [
    {
     "data": {
      "text/plain": [
       "Index(['store', 'name', 'address', 'city', 'zipcode', 'store_location',\n",
       "       'county_number', 'county', 'category', 'category_name', 'vendor_no',\n",
       "       'vendor', 'item', 'description', 'liter_size', 'btl_price', 'total',\n",
       "       'weekday', 'day', 'month', 'year', 'name_Enc', 'address_Enc',\n",
       "       'city_Enc', 'zipcode_Enc', 'store_location_Enc', 'county_Enc',\n",
       "       'category_name_Enc', 'vendor_Enc', 'description_Enc', 'weekday_Enc'],\n",
       "      dtype='object')"
      ]
     },
     "execution_count": 37,
     "metadata": {},
     "output_type": "execute_result"
    }
   ],
   "source": [
    "data.columns"
   ]
  },
  {
   "cell_type": "code",
   "execution_count": 41,
   "id": "fd6a48ce-e065-4a2f-82cb-7b26aa2bf21e",
   "metadata": {},
   "outputs": [
    {
     "data": {
      "text/plain": [
       "<AxesSubplot:>"
      ]
     },
     "execution_count": 41,
     "metadata": {},
     "output_type": "execute_result"
    },
    {
     "data": {
      "image/png": "[encoded data removed]",
      "text/plain": [
       "<Figure size 1440x864 with 2 Axes>"
      ]
     },
     "metadata": {
      "needs_background": "light"
     },
     "output_type": "display_data"
    }
   ],
   "source": [
    "plt.figure(figsize=(20,12))\n",
    "sns.heatmap(data[numerical_features].corr(),annot=True,cmap='viridis')"
   ]
  },
  {
   "cell_type": "markdown",
   "id": "a1745eaa-21ae-45b8-aa1a-d21416e24bf0",
   "metadata": {},
   "source": [
    "### The numerical fetaures are now filtered lets drop the categorical features"
   ]
  },
  {
   "cell_type": "code",
   "execution_count": 42,
   "id": "a0827513-817b-4d81-931e-c66612248107",
   "metadata": {},
   "outputs": [],
   "source": [
    "data.drop(labels=categorical_features,axis=1,inplace=True)"
   ]
  },
  {
   "cell_type": "code",
   "execution_count": 53,
   "id": "46b66c68-51f6-443f-bb15-49b66c8d45d9",
   "metadata": {},
   "outputs": [
    {
     "data": {
      "text/plain": [
       "Index(['store', 'county_number', 'category', 'vendor_no', 'item', 'liter_size',\n",
       "       'btl_price', 'total', 'day', 'month', 'year'],\n",
       "      dtype='object')"
      ]
     },
     "execution_count": 53,
     "metadata": {},
     "output_type": "execute_result"
    }
   ],
   "source": [
    "numerical_features"
   ]
  },
  {
   "cell_type": "code",
   "execution_count": 51,
   "id": "dfa898fc-ef85-4e99-889c-4953f84beb84",
   "metadata": {},
   "outputs": [
    {
     "data": {
      "text/plain": [
       "Index(['store', 'county_number', 'category', 'vendor_no', 'item', 'liter_size',\n",
       "       'btl_price', 'total', 'day', 'month', 'year', 'name_Enc', 'address_Enc',\n",
       "       'city_Enc', 'zipcode_Enc', 'store_location_Enc', 'county_Enc',\n",
       "       'category_name_Enc', 'vendor_Enc', 'description_Enc', 'weekday_Enc'],\n",
       "      dtype='object')"
      ]
     },
     "execution_count": 51,
     "metadata": {},
     "output_type": "execute_result"
    }
   ],
   "source": [
    "data.columns"
   ]
  },
  {
   "cell_type": "code",
   "execution_count": 54,
   "id": "40f8c7c3-4f5c-4760-9d5f-f22345cfb1c3",
   "metadata": {},
   "outputs": [
    {
     "data": {
      "text/html": [
       "<div>\n",
       "<style scoped>\n",
       "    .dataframe tbody tr th:only-of-type {\n",
       "        vertical-align: middle;\n",
       "    }\n",
       "\n",
       "    .dataframe tbody tr th {\n",
       "        vertical-align: top;\n",
       "    }\n",
       "\n",
       "    .dataframe thead th {\n",
       "        text-align: right;\n",
       "    }\n",
       "</style>\n",
       "<table border=\"1\" class=\"dataframe\">\n",
       "  <thead>\n",
       "    <tr style=\"text-align: right;\">\n",
       "      <th></th>\n",
       "      <th>store</th>\n",
       "      <th>county_number</th>\n",
       "      <th>category</th>\n",
       "      <th>vendor_no</th>\n",
       "      <th>item</th>\n",
       "      <th>liter_size</th>\n",
       "      <th>btl_price</th>\n",
       "      <th>total</th>\n",
       "      <th>day</th>\n",
       "      <th>month</th>\n",
       "      <th>...</th>\n",
       "      <th>name_Enc</th>\n",
       "      <th>address_Enc</th>\n",
       "      <th>city_Enc</th>\n",
       "      <th>zipcode_Enc</th>\n",
       "      <th>store_location_Enc</th>\n",
       "      <th>county_Enc</th>\n",
       "      <th>category_name_Enc</th>\n",
       "      <th>vendor_Enc</th>\n",
       "      <th>description_Enc</th>\n",
       "      <th>weekday_Enc</th>\n",
       "    </tr>\n",
       "  </thead>\n",
       "  <tbody>\n",
       "    <tr>\n",
       "      <th>0</th>\n",
       "      <td>2190</td>\n",
       "      <td>77</td>\n",
       "      <td>1081600.0</td>\n",
       "      <td>421</td>\n",
       "      <td>64858</td>\n",
       "      <td>3000</td>\n",
       "      <td>44.58</td>\n",
       "      <td>267.48</td>\n",
       "      <td>19</td>\n",
       "      <td>2</td>\n",
       "      <td>...</td>\n",
       "      <td>108</td>\n",
       "      <td>1014</td>\n",
       "      <td>1958</td>\n",
       "      <td>1049</td>\n",
       "      <td>1014</td>\n",
       "      <td>3245</td>\n",
       "      <td>2230</td>\n",
       "      <td>410</td>\n",
       "      <td>2034</td>\n",
       "      <td>2346</td>\n",
       "    </tr>\n",
       "    <tr>\n",
       "      <th>1</th>\n",
       "      <td>2190</td>\n",
       "      <td>77</td>\n",
       "      <td>1081600.0</td>\n",
       "      <td>421</td>\n",
       "      <td>64858</td>\n",
       "      <td>3000</td>\n",
       "      <td>44.58</td>\n",
       "      <td>222.90</td>\n",
       "      <td>9</td>\n",
       "      <td>2</td>\n",
       "      <td>...</td>\n",
       "      <td>108</td>\n",
       "      <td>1014</td>\n",
       "      <td>1958</td>\n",
       "      <td>1049</td>\n",
       "      <td>1014</td>\n",
       "      <td>3245</td>\n",
       "      <td>2230</td>\n",
       "      <td>410</td>\n",
       "      <td>2034</td>\n",
       "      <td>3660</td>\n",
       "    </tr>\n",
       "    <tr>\n",
       "      <th>2</th>\n",
       "      <td>2190</td>\n",
       "      <td>77</td>\n",
       "      <td>1081600.0</td>\n",
       "      <td>421</td>\n",
       "      <td>64858</td>\n",
       "      <td>3000</td>\n",
       "      <td>44.58</td>\n",
       "      <td>267.48</td>\n",
       "      <td>30</td>\n",
       "      <td>10</td>\n",
       "      <td>...</td>\n",
       "      <td>906</td>\n",
       "      <td>1014</td>\n",
       "      <td>1958</td>\n",
       "      <td>1049</td>\n",
       "      <td>1014</td>\n",
       "      <td>3245</td>\n",
       "      <td>2230</td>\n",
       "      <td>2169</td>\n",
       "      <td>2034</td>\n",
       "      <td>2346</td>\n",
       "    </tr>\n",
       "    <tr>\n",
       "      <th>3</th>\n",
       "      <td>2190</td>\n",
       "      <td>77</td>\n",
       "      <td>1081600.0</td>\n",
       "      <td>421</td>\n",
       "      <td>64858</td>\n",
       "      <td>3000</td>\n",
       "      <td>44.58</td>\n",
       "      <td>44.58</td>\n",
       "      <td>27</td>\n",
       "      <td>2</td>\n",
       "      <td>...</td>\n",
       "      <td>906</td>\n",
       "      <td>1014</td>\n",
       "      <td>1958</td>\n",
       "      <td>1049</td>\n",
       "      <td>1014</td>\n",
       "      <td>3245</td>\n",
       "      <td>2230</td>\n",
       "      <td>2169</td>\n",
       "      <td>2034</td>\n",
       "      <td>2346</td>\n",
       "    </tr>\n",
       "    <tr>\n",
       "      <th>4</th>\n",
       "      <td>2190</td>\n",
       "      <td>77</td>\n",
       "      <td>1081600.0</td>\n",
       "      <td>421</td>\n",
       "      <td>64858</td>\n",
       "      <td>3000</td>\n",
       "      <td>44.58</td>\n",
       "      <td>44.58</td>\n",
       "      <td>25</td>\n",
       "      <td>2</td>\n",
       "      <td>...</td>\n",
       "      <td>906</td>\n",
       "      <td>1014</td>\n",
       "      <td>1958</td>\n",
       "      <td>1049</td>\n",
       "      <td>1014</td>\n",
       "      <td>3245</td>\n",
       "      <td>2230</td>\n",
       "      <td>2169</td>\n",
       "      <td>2034</td>\n",
       "      <td>2568</td>\n",
       "    </tr>\n",
       "    <tr>\n",
       "      <th>...</th>\n",
       "      <td>...</td>\n",
       "      <td>...</td>\n",
       "      <td>...</td>\n",
       "      <td>...</td>\n",
       "      <td>...</td>\n",
       "      <td>...</td>\n",
       "      <td>...</td>\n",
       "      <td>...</td>\n",
       "      <td>...</td>\n",
       "      <td>...</td>\n",
       "      <td>...</td>\n",
       "      <td>...</td>\n",
       "      <td>...</td>\n",
       "      <td>...</td>\n",
       "      <td>...</td>\n",
       "      <td>...</td>\n",
       "      <td>...</td>\n",
       "      <td>...</td>\n",
       "      <td>...</td>\n",
       "      <td>...</td>\n",
       "      <td>...</td>\n",
       "    </tr>\n",
       "    <tr>\n",
       "      <th>14995</th>\n",
       "      <td>2508</td>\n",
       "      <td>57</td>\n",
       "      <td>1071100.0</td>\n",
       "      <td>395</td>\n",
       "      <td>58868</td>\n",
       "      <td>1750</td>\n",
       "      <td>12.30</td>\n",
       "      <td>221.40</td>\n",
       "      <td>12</td>\n",
       "      <td>2</td>\n",
       "      <td>...</td>\n",
       "      <td>56</td>\n",
       "      <td>320</td>\n",
       "      <td>645</td>\n",
       "      <td>444</td>\n",
       "      <td>320</td>\n",
       "      <td>695</td>\n",
       "      <td>748</td>\n",
       "      <td>363</td>\n",
       "      <td>28</td>\n",
       "      <td>6152</td>\n",
       "    </tr>\n",
       "    <tr>\n",
       "      <th>14996</th>\n",
       "      <td>2508</td>\n",
       "      <td>57</td>\n",
       "      <td>1071100.0</td>\n",
       "      <td>395</td>\n",
       "      <td>58872</td>\n",
       "      <td>1750</td>\n",
       "      <td>12.30</td>\n",
       "      <td>73.80</td>\n",
       "      <td>9</td>\n",
       "      <td>9</td>\n",
       "      <td>...</td>\n",
       "      <td>290</td>\n",
       "      <td>320</td>\n",
       "      <td>645</td>\n",
       "      <td>444</td>\n",
       "      <td>320</td>\n",
       "      <td>695</td>\n",
       "      <td>748</td>\n",
       "      <td>363</td>\n",
       "      <td>24</td>\n",
       "      <td>2568</td>\n",
       "    </tr>\n",
       "    <tr>\n",
       "      <th>14997</th>\n",
       "      <td>2508</td>\n",
       "      <td>57</td>\n",
       "      <td>1071100.0</td>\n",
       "      <td>395</td>\n",
       "      <td>58873</td>\n",
       "      <td>1750</td>\n",
       "      <td>12.30</td>\n",
       "      <td>147.60</td>\n",
       "      <td>12</td>\n",
       "      <td>2</td>\n",
       "      <td>...</td>\n",
       "      <td>56</td>\n",
       "      <td>320</td>\n",
       "      <td>645</td>\n",
       "      <td>444</td>\n",
       "      <td>320</td>\n",
       "      <td>695</td>\n",
       "      <td>748</td>\n",
       "      <td>363</td>\n",
       "      <td>13</td>\n",
       "      <td>6152</td>\n",
       "    </tr>\n",
       "    <tr>\n",
       "      <th>14998</th>\n",
       "      <td>2508</td>\n",
       "      <td>57</td>\n",
       "      <td>1071100.0</td>\n",
       "      <td>395</td>\n",
       "      <td>58875</td>\n",
       "      <td>1750</td>\n",
       "      <td>15.74</td>\n",
       "      <td>94.44</td>\n",
       "      <td>8</td>\n",
       "      <td>1</td>\n",
       "      <td>...</td>\n",
       "      <td>56</td>\n",
       "      <td>320</td>\n",
       "      <td>645</td>\n",
       "      <td>444</td>\n",
       "      <td>320</td>\n",
       "      <td>695</td>\n",
       "      <td>748</td>\n",
       "      <td>363</td>\n",
       "      <td>37</td>\n",
       "      <td>6152</td>\n",
       "    </tr>\n",
       "    <tr>\n",
       "      <th>14999</th>\n",
       "      <td>2508</td>\n",
       "      <td>57</td>\n",
       "      <td>1071100.0</td>\n",
       "      <td>395</td>\n",
       "      <td>58875</td>\n",
       "      <td>1750</td>\n",
       "      <td>14.74</td>\n",
       "      <td>176.88</td>\n",
       "      <td>12</td>\n",
       "      <td>3</td>\n",
       "      <td>...</td>\n",
       "      <td>47</td>\n",
       "      <td>320</td>\n",
       "      <td>645</td>\n",
       "      <td>444</td>\n",
       "      <td>320</td>\n",
       "      <td>695</td>\n",
       "      <td>748</td>\n",
       "      <td>363</td>\n",
       "      <td>37</td>\n",
       "      <td>6152</td>\n",
       "    </tr>\n",
       "  </tbody>\n",
       "</table>\n",
       "<p>14995 rows × 21 columns</p>\n",
       "</div>"
      ],
      "text/plain": [
       "       store  county_number   category  vendor_no   item  liter_size  \\\n",
       "0       2190             77  1081600.0        421  64858        3000   \n",
       "1       2190             77  1081600.0        421  64858        3000   \n",
       "2       2190             77  1081600.0        421  64858        3000   \n",
       "3       2190             77  1081600.0        421  64858        3000   \n",
       "4       2190             77  1081600.0        421  64858        3000   \n",
       "...      ...            ...        ...        ...    ...         ...   \n",
       "14995   2508             57  1071100.0        395  58868        1750   \n",
       "14996   2508             57  1071100.0        395  58872        1750   \n",
       "14997   2508             57  1071100.0        395  58873        1750   \n",
       "14998   2508             57  1071100.0        395  58875        1750   \n",
       "14999   2508             57  1071100.0        395  58875        1750   \n",
       "\n",
       "       btl_price   total  day  month  ...  name_Enc  address_Enc  city_Enc  \\\n",
       "0          44.58  267.48   19      2  ...       108         1014      1958   \n",
       "1          44.58  222.90    9      2  ...       108         1014      1958   \n",
       "2          44.58  267.48   30     10  ...       906         1014      1958   \n",
       "3          44.58   44.58   27      2  ...       906         1014      1958   \n",
       "4          44.58   44.58   25      2  ...       906         1014      1958   \n",
       "...          ...     ...  ...    ...  ...       ...          ...       ...   \n",
       "14995      12.30  221.40   12      2  ...        56          320       645   \n",
       "14996      12.30   73.80    9      9  ...       290          320       645   \n",
       "14997      12.30  147.60   12      2  ...        56          320       645   \n",
       "14998      15.74   94.44    8      1  ...        56          320       645   \n",
       "14999      14.74  176.88   12      3  ...        47          320       645   \n",
       "\n",
       "       zipcode_Enc  store_location_Enc  county_Enc  category_name_Enc  \\\n",
       "0             1049                1014        3245               2230   \n",
       "1             1049                1014        3245               2230   \n",
       "2             1049                1014        3245               2230   \n",
       "3             1049                1014        3245               2230   \n",
       "4             1049                1014        3245               2230   \n",
       "...            ...                 ...         ...                ...   \n",
       "14995          444                 320         695                748   \n",
       "14996          444                 320         695                748   \n",
       "14997          444                 320         695                748   \n",
       "14998          444                 320         695                748   \n",
       "14999          444                 320         695                748   \n",
       "\n",
       "       vendor_Enc  description_Enc  weekday_Enc  \n",
       "0             410             2034         2346  \n",
       "1             410             2034         3660  \n",
       "2            2169             2034         2346  \n",
       "3            2169             2034         2346  \n",
       "4            2169             2034         2568  \n",
       "...           ...              ...          ...  \n",
       "14995         363               28         6152  \n",
       "14996         363               24         2568  \n",
       "14997         363               13         6152  \n",
       "14998         363               37         6152  \n",
       "14999         363               37         6152  \n",
       "\n",
       "[14995 rows x 21 columns]"
      ]
     },
     "execution_count": 54,
     "metadata": {},
     "output_type": "execute_result"
    }
   ],
   "source": [
    "data"
   ]
  },
  {
   "cell_type": "markdown",
   "id": "b66272c3-7342-45e9-806d-8297f3af2a97",
   "metadata": {},
   "source": [
    "### Lets encode the numerical discrete variables"
   ]
  },
  {
   "cell_type": "code",
   "execution_count": 57,
   "id": "4729842d-55b1-4762-8c3b-dbc64992001b",
   "metadata": {},
   "outputs": [
    {
     "data": {
      "text/html": [
       "<div>\n",
       "<style scoped>\n",
       "    .dataframe tbody tr th:only-of-type {\n",
       "        vertical-align: middle;\n",
       "    }\n",
       "\n",
       "    .dataframe tbody tr th {\n",
       "        vertical-align: top;\n",
       "    }\n",
       "\n",
       "    .dataframe thead th {\n",
       "        text-align: right;\n",
       "    }\n",
       "</style>\n",
       "<table border=\"1\" class=\"dataframe\">\n",
       "  <thead>\n",
       "    <tr style=\"text-align: right;\">\n",
       "      <th></th>\n",
       "      <th>store</th>\n",
       "      <th>county_number</th>\n",
       "      <th>category</th>\n",
       "      <th>vendor_no</th>\n",
       "      <th>item</th>\n",
       "      <th>liter_size</th>\n",
       "      <th>btl_price</th>\n",
       "      <th>total</th>\n",
       "      <th>day</th>\n",
       "      <th>month</th>\n",
       "      <th>...</th>\n",
       "      <th>name_Enc</th>\n",
       "      <th>address_Enc</th>\n",
       "      <th>city_Enc</th>\n",
       "      <th>zipcode_Enc</th>\n",
       "      <th>store_location_Enc</th>\n",
       "      <th>county_Enc</th>\n",
       "      <th>category_name_Enc</th>\n",
       "      <th>vendor_Enc</th>\n",
       "      <th>description_Enc</th>\n",
       "      <th>weekday_Enc</th>\n",
       "    </tr>\n",
       "  </thead>\n",
       "  <tbody>\n",
       "    <tr>\n",
       "      <th>count</th>\n",
       "      <td>14995.000000</td>\n",
       "      <td>14995.000000</td>\n",
       "      <td>1.499500e+04</td>\n",
       "      <td>14995.000000</td>\n",
       "      <td>14995.000000</td>\n",
       "      <td>14995.000000</td>\n",
       "      <td>14995.000000</td>\n",
       "      <td>14995.000000</td>\n",
       "      <td>14995.000000</td>\n",
       "      <td>14995.000000</td>\n",
       "      <td>...</td>\n",
       "      <td>14995.000000</td>\n",
       "      <td>14995.000000</td>\n",
       "      <td>14995.000000</td>\n",
       "      <td>14995.000000</td>\n",
       "      <td>14995.000000</td>\n",
       "      <td>14995.000000</td>\n",
       "      <td>14995.000000</td>\n",
       "      <td>14995.000000</td>\n",
       "      <td>14995.000000</td>\n",
       "      <td>14995.000000</td>\n",
       "    </tr>\n",
       "    <tr>\n",
       "      <th>mean</th>\n",
       "      <td>2676.040547</td>\n",
       "      <td>55.856219</td>\n",
       "      <td>1.055338e+06</td>\n",
       "      <td>273.773858</td>\n",
       "      <td>62023.001801</td>\n",
       "      <td>1656.420473</td>\n",
       "      <td>28.200495</td>\n",
       "      <td>138.639712</td>\n",
       "      <td>15.667289</td>\n",
       "      <td>5.079693</td>\n",
       "      <td>...</td>\n",
       "      <td>280.754185</td>\n",
       "      <td>415.363588</td>\n",
       "      <td>810.167989</td>\n",
       "      <td>603.395465</td>\n",
       "      <td>415.326375</td>\n",
       "      <td>1236.983461</td>\n",
       "      <td>977.219673</td>\n",
       "      <td>926.737646</td>\n",
       "      <td>349.923775</td>\n",
       "      <td>4228.098499</td>\n",
       "    </tr>\n",
       "    <tr>\n",
       "      <th>std</th>\n",
       "      <td>715.266801</td>\n",
       "      <td>27.666524</td>\n",
       "      <td>8.458466e+04</td>\n",
       "      <td>151.799881</td>\n",
       "      <td>129532.848525</td>\n",
       "      <td>734.839435</td>\n",
       "      <td>45.053414</td>\n",
       "      <td>336.137040</td>\n",
       "      <td>8.711519</td>\n",
       "      <td>3.295562</td>\n",
       "      <td>...</td>\n",
       "      <td>246.522487</td>\n",
       "      <td>356.770035</td>\n",
       "      <td>715.448147</td>\n",
       "      <td>591.528859</td>\n",
       "      <td>356.810646</td>\n",
       "      <td>1183.482879</td>\n",
       "      <td>705.997691</td>\n",
       "      <td>705.560489</td>\n",
       "      <td>673.931958</td>\n",
       "      <td>1706.434605</td>\n",
       "    </tr>\n",
       "    <tr>\n",
       "      <th>min</th>\n",
       "      <td>2106.000000</td>\n",
       "      <td>1.000000</td>\n",
       "      <td>1.011100e+06</td>\n",
       "      <td>10.000000</td>\n",
       "      <td>411.000000</td>\n",
       "      <td>375.000000</td>\n",
       "      <td>4.260000</td>\n",
       "      <td>4.260000</td>\n",
       "      <td>1.000000</td>\n",
       "      <td>1.000000</td>\n",
       "      <td>...</td>\n",
       "      <td>1.000000</td>\n",
       "      <td>1.000000</td>\n",
       "      <td>1.000000</td>\n",
       "      <td>1.000000</td>\n",
       "      <td>1.000000</td>\n",
       "      <td>1.000000</td>\n",
       "      <td>2.000000</td>\n",
       "      <td>1.000000</td>\n",
       "      <td>1.000000</td>\n",
       "      <td>27.000000</td>\n",
       "    </tr>\n",
       "    <tr>\n",
       "      <th>25%</th>\n",
       "      <td>2285.000000</td>\n",
       "      <td>30.000000</td>\n",
       "      <td>1.012210e+06</td>\n",
       "      <td>115.000000</td>\n",
       "      <td>26828.000000</td>\n",
       "      <td>1000.000000</td>\n",
       "      <td>13.500000</td>\n",
       "      <td>44.580000</td>\n",
       "      <td>8.000000</td>\n",
       "      <td>2.000000</td>\n",
       "      <td>...</td>\n",
       "      <td>56.000000</td>\n",
       "      <td>73.000000</td>\n",
       "      <td>269.000000</td>\n",
       "      <td>149.000000</td>\n",
       "      <td>73.000000</td>\n",
       "      <td>308.000000</td>\n",
       "      <td>437.000000</td>\n",
       "      <td>343.000000</td>\n",
       "      <td>23.000000</td>\n",
       "      <td>2568.000000</td>\n",
       "    </tr>\n",
       "    <tr>\n",
       "      <th>50%</th>\n",
       "      <td>2500.000000</td>\n",
       "      <td>61.000000</td>\n",
       "      <td>1.032200e+06</td>\n",
       "      <td>270.000000</td>\n",
       "      <td>38178.000000</td>\n",
       "      <td>1750.000000</td>\n",
       "      <td>22.130000</td>\n",
       "      <td>82.260000</td>\n",
       "      <td>16.000000</td>\n",
       "      <td>4.000000</td>\n",
       "      <td>...</td>\n",
       "      <td>269.000000</td>\n",
       "      <td>318.000000</td>\n",
       "      <td>500.000000</td>\n",
       "      <td>343.000000</td>\n",
       "      <td>318.000000</td>\n",
       "      <td>641.000000</td>\n",
       "      <td>748.000000</td>\n",
       "      <td>668.000000</td>\n",
       "      <td>74.000000</td>\n",
       "      <td>3660.000000</td>\n",
       "    </tr>\n",
       "    <tr>\n",
       "      <th>75%</th>\n",
       "      <td>2508.000000</td>\n",
       "      <td>77.000000</td>\n",
       "      <td>1.081300e+06</td>\n",
       "      <td>421.000000</td>\n",
       "      <td>64858.000000</td>\n",
       "      <td>1750.000000</td>\n",
       "      <td>43.040000</td>\n",
       "      <td>135.000000</td>\n",
       "      <td>23.000000</td>\n",
       "      <td>8.000000</td>\n",
       "      <td>...</td>\n",
       "      <td>369.000000</td>\n",
       "      <td>793.000000</td>\n",
       "      <td>1894.000000</td>\n",
       "      <td>1049.000000</td>\n",
       "      <td>793.000000</td>\n",
       "      <td>1905.000000</td>\n",
       "      <td>1809.000000</td>\n",
       "      <td>1719.000000</td>\n",
       "      <td>164.000000</td>\n",
       "      <td>6152.000000</td>\n",
       "    </tr>\n",
       "    <tr>\n",
       "      <th>max</th>\n",
       "      <td>9001.000000</td>\n",
       "      <td>99.000000</td>\n",
       "      <td>1.701100e+06</td>\n",
       "      <td>971.000000</td>\n",
       "      <td>995381.000000</td>\n",
       "      <td>6000.000000</td>\n",
       "      <td>2398.800000</td>\n",
       "      <td>9402.000000</td>\n",
       "      <td>31.000000</td>\n",
       "      <td>12.000000</td>\n",
       "      <td>...</td>\n",
       "      <td>906.000000</td>\n",
       "      <td>1014.000000</td>\n",
       "      <td>1958.000000</td>\n",
       "      <td>1888.000000</td>\n",
       "      <td>1014.000000</td>\n",
       "      <td>3245.000000</td>\n",
       "      <td>2230.000000</td>\n",
       "      <td>2169.000000</td>\n",
       "      <td>2034.000000</td>\n",
       "      <td>6152.000000</td>\n",
       "    </tr>\n",
       "  </tbody>\n",
       "</table>\n",
       "<p>8 rows × 21 columns</p>\n",
       "</div>"
      ],
      "text/plain": [
       "              store  county_number      category     vendor_no           item  \\\n",
       "count  14995.000000   14995.000000  1.499500e+04  14995.000000   14995.000000   \n",
       "mean    2676.040547      55.856219  1.055338e+06    273.773858   62023.001801   \n",
       "std      715.266801      27.666524  8.458466e+04    151.799881  129532.848525   \n",
       "min     2106.000000       1.000000  1.011100e+06     10.000000     411.000000   \n",
       "25%     2285.000000      30.000000  1.012210e+06    115.000000   26828.000000   \n",
       "50%     2500.000000      61.000000  1.032200e+06    270.000000   38178.000000   \n",
       "75%     2508.000000      77.000000  1.081300e+06    421.000000   64858.000000   \n",
       "max     9001.000000      99.000000  1.701100e+06    971.000000  995381.000000   \n",
       "\n",
       "         liter_size     btl_price         total           day         month  \\\n",
       "count  14995.000000  14995.000000  14995.000000  14995.000000  14995.000000   \n",
       "mean    1656.420473     28.200495    138.639712     15.667289      5.079693   \n",
       "std      734.839435     45.053414    336.137040      8.711519      3.295562   \n",
       "min      375.000000      4.260000      4.260000      1.000000      1.000000   \n",
       "25%     1000.000000     13.500000     44.580000      8.000000      2.000000   \n",
       "50%     1750.000000     22.130000     82.260000     16.000000      4.000000   \n",
       "75%     1750.000000     43.040000    135.000000     23.000000      8.000000   \n",
       "max     6000.000000   2398.800000   9402.000000     31.000000     12.000000   \n",
       "\n",
       "       ...      name_Enc   address_Enc      city_Enc   zipcode_Enc  \\\n",
       "count  ...  14995.000000  14995.000000  14995.000000  14995.000000   \n",
       "mean   ...    280.754185    415.363588    810.167989    603.395465   \n",
       "std    ...    246.522487    356.770035    715.448147    591.528859   \n",
       "min    ...      1.000000      1.000000      1.000000      1.000000   \n",
       "25%    ...     56.000000     73.000000    269.000000    149.000000   \n",
       "50%    ...    269.000000    318.000000    500.000000    343.000000   \n",
       "75%    ...    369.000000    793.000000   1894.000000   1049.000000   \n",
       "max    ...    906.000000   1014.000000   1958.000000   1888.000000   \n",
       "\n",
       "       store_location_Enc    county_Enc  category_name_Enc    vendor_Enc  \\\n",
       "count        14995.000000  14995.000000       14995.000000  14995.000000   \n",
       "mean           415.326375   1236.983461         977.219673    926.737646   \n",
       "std            356.810646   1183.482879         705.997691    705.560489   \n",
       "min              1.000000      1.000000           2.000000      1.000000   \n",
       "25%             73.000000    308.000000         437.000000    343.000000   \n",
       "50%            318.000000    641.000000         748.000000    668.000000   \n",
       "75%            793.000000   1905.000000        1809.000000   1719.000000   \n",
       "max           1014.000000   3245.000000        2230.000000   2169.000000   \n",
       "\n",
       "       description_Enc   weekday_Enc  \n",
       "count     14995.000000  14995.000000  \n",
       "mean        349.923775   4228.098499  \n",
       "std         673.931958   1706.434605  \n",
       "min           1.000000     27.000000  \n",
       "25%          23.000000   2568.000000  \n",
       "50%          74.000000   3660.000000  \n",
       "75%         164.000000   6152.000000  \n",
       "max        2034.000000   6152.000000  \n",
       "\n",
       "[8 rows x 21 columns]"
      ]
     },
     "execution_count": 57,
     "metadata": {},
     "output_type": "execute_result"
    }
   ],
   "source": [
    "data.describe()"
   ]
  },
  {
   "cell_type": "markdown",
   "id": "aadd7cc7-31b0-4be9-977f-cdd32d55ebea",
   "metadata": {},
   "source": [
    "### We know that store county number category vendor no item liter size are discrete variables"
   ]
  },
  {
   "cell_type": "code",
   "execution_count": 68,
   "id": "2ce8d704-0786-4882-b91c-d6cca5c4ba73",
   "metadata": {},
   "outputs": [
    {
     "data": {
      "text/plain": [
       "<AxesSubplot:xlabel='liter_size', ylabel='Density'>"
      ]
     },
     "execution_count": 68,
     "metadata": {},
     "output_type": "execute_result"
    },
    {
     "data": {
      "image/png": "[encoded data removed]",
      "text/plain": [
       "<Figure size 432x288 with 1 Axes>"
      ]
     },
     "metadata": {
      "needs_background": "light"
     },
     "output_type": "display_data"
    }
   ],
   "source": [
    "sns.distplot(np.log1p(data['liter_size']))"
   ]
  },
  {
   "cell_type": "code",
   "execution_count": 89,
   "id": "e642f8b9-ccaf-441e-9323-ead9da68e46f",
   "metadata": {},
   "outputs": [
    {
     "data": {
      "text/plain": [
       "<AxesSubplot:xlabel='total', ylabel='Density'>"
      ]
     },
     "execution_count": 89,
     "metadata": {},
     "output_type": "execute_result"
    },
    {
     "data": {
      "image/png": "[encoded data removed]",
      "text/plain": [
       "<Figure size 432x288 with 1 Axes>"
      ]
     },
     "metadata": {
      "needs_background": "light"
     },
     "output_type": "display_data"
    }
   ],
   "source": [
    "sns.distplot(np.log(data['total']))"
   ]
  },
  {
   "cell_type": "code",
   "execution_count": 76,
   "id": "baa36db6-d1a8-411f-93e3-7d859b5007c1",
   "metadata": {},
   "outputs": [
    {
     "data": {
      "text/plain": [
       "<AxesSubplot:>"
      ]
     },
     "execution_count": 76,
     "metadata": {},
     "output_type": "execute_result"
    },
    {
     "data": {
      "image/png": "[encoded data removed]",
      "text/plain": [
       "<Figure size 432x288 with 1 Axes>"
      ]
     },
     "metadata": {
      "needs_background": "light"
     },
     "output_type": "display_data"
    }
   ],
   "source": [
    "(data['total']**(1/1.2)).hist(bins=30)"
   ]
  },
  {
   "cell_type": "code",
   "execution_count": 92,
   "id": "e83ec7e6-e5b7-4f0d-9427-e2a4ec58232f",
   "metadata": {},
   "outputs": [
    {
     "data": {
      "text/plain": [
       "<matplotlib.legend.Legend at 0x143b71e2d00>"
      ]
     },
     "execution_count": 92,
     "metadata": {},
     "output_type": "execute_result"
    },
    {
     "data": {
      "image/png": "[encoded data removed]",
      "text/plain": [
       "<Figure size 432x288 with 1 Axes>"
      ]
     },
     "metadata": {
      "needs_background": "light"
     },
     "output_type": "display_data"
    }
   ],
   "source": [
    "import scipy.stats as stat\n",
    "sns.distplot(stat.boxcox(data['total'])[0],label='boxcox')\n",
    "sns.distplot(np.log(data['total']),label='log')\n",
    "plt.legend()"
   ]
  },
  {
   "cell_type": "code",
   "execution_count": 103,
   "id": "a74212be-5cab-4745-867f-a7546797f73d",
   "metadata": {},
   "outputs": [
    {
     "data": {
      "image/png": "[encoded data removed]",
      "text/plain": [
       "<Figure size 432x288 with 1 Axes>"
      ]
     },
     "metadata": {
      "needs_background": "light"
     },
     "output_type": "display_data"
    },
    {
     "data": {
      "image/png": "[encoded data removed]",
      "text/plain": [
       "<Figure size 432x288 with 1 Axes>"
      ]
     },
     "metadata": {
      "needs_background": "light"
     },
     "output_type": "display_data"
    },
    {
     "data": {
      "text/plain": [
       "<AxesSubplot:ylabel='Density'>"
      ]
     },
     "execution_count": 103,
     "metadata": {},
     "output_type": "execute_result"
    },
    {
     "data": {
      "image/png": "[encoded data removed]",
      "text/plain": [
       "<Figure size 432x288 with 1 Axes>"
      ]
     },
     "metadata": {
      "needs_background": "light"
     },
     "output_type": "display_data"
    }
   ],
   "source": [
    "from sklearn.preprocessing import RobustScaler,MinMaxScaler,StandardScaler\n",
    "robust=RobustScaler()\n",
    "minmax=MinMaxScaler()\n",
    "standard=StandardScaler()\n",
    "sns.distplot(robust.fit_transform(data[['total']]))\n",
    "plt.show()\n",
    "sns.distplot(minmax.fit_transform(data[['total']]))\n",
    "plt.show()\n",
    "sns.distplot(standard.fit_transform(data[['total']]))"
   ]
  },
  {
   "cell_type": "code",
   "execution_count": null,
   "id": "40fa0658-1749-4c4f-9d46-b013fb6e244e",
   "metadata": {},
   "outputs": [],
   "source": []
  },
  {
   "cell_type": "code",
   "execution_count": null,
   "id": "ad8bd167-5897-4a84-a65e-ea00e90cafc1",
   "metadata": {},
   "outputs": [],
   "source": []
  },
  {
   "cell_type": "code",
   "execution_count": null,
   "id": "b199a048-4e5a-4f7b-a0f8-c91e9cf057de",
   "metadata": {},
   "outputs": [],
   "source": []
  },
  {
   "cell_type": "markdown",
   "id": "f2d5f3b2-3a66-4b6f-826d-414957834bd3",
   "metadata": {},
   "source": [
    "### We can see that bottle quantity and bottle price are highly correlated"
   ]
  },
  {
   "cell_type": "code",
   "execution_count": 55,
   "id": "a0409380-116b-427d-a859-91a288dd9251",
   "metadata": {},
   "outputs": [
    {
     "data": {
      "text/plain": [
       "<AxesSubplot:xlabel='total', ylabel='Count'>"
      ]
     },
     "execution_count": 55,
     "metadata": {},
     "output_type": "execute_result"
    },
    {
     "data": {
      "image/png": "[encoded data removed]",
      "text/plain": [
       "<Figure size 432x288 with 1 Axes>"
      ]
     },
     "metadata": {
      "needs_background": "light"
     },
     "output_type": "display_data"
    }
   ],
   "source": [
    "sns.histplot(np.log1p(data['total']),bins=10,kde=True)"
   ]
  },
  {
   "cell_type": "code",
   "execution_count": 204,
   "id": "29f77d7c-6166-4b65-9a25-55cea1db9a1a",
   "metadata": {},
   "outputs": [
    {
     "data": {
      "text/plain": [
       "<AxesSubplot:xlabel='total', ylabel='Density'>"
      ]
     },
     "execution_count": 204,
     "metadata": {},
     "output_type": "execute_result"
    },
    {
     "data": {
      "image/png": "[encoded data removed]",
      "text/plain": [
       "<Figure size 432x288 with 1 Axes>"
      ]
     },
     "metadata": {
      "needs_background": "light"
     },
     "output_type": "display_data"
    }
   ],
   "source": [
    "sns.distplot(np.log1p(data['total']))"
   ]
  },
  {
   "cell_type": "code",
   "execution_count": null,
   "id": "27146835-bc9f-4a59-9d2e-23ed131f2f68",
   "metadata": {},
   "outputs": [],
   "source": [
    "plt.figure(figsize=(20,18))\n",
    "# sns.barplot(data=data,x='store',y='total')\n",
    "sns.pairplot(data.select_dtypes(include=[int,float]),hue='total')"
   ]
  },
  {
   "cell_type": "code",
   "execution_count": 43,
   "id": "7b2ce4bb-558f-47c6-a6cc-c37d79fea565",
   "metadata": {},
   "outputs": [
    {
     "data": {
      "text/plain": [
       "<AxesSubplot:xlabel='store', ylabel='Density'>"
      ]
     },
     "execution_count": 43,
     "metadata": {},
     "output_type": "execute_result"
    },
    {
     "data": {
      "image/png": "[encoded data removed]",
      "text/plain": [
       "<Figure size 432x288 with 1 Axes>"
      ]
     },
     "metadata": {
      "needs_background": "light"
     },
     "output_type": "display_data"
    }
   ],
   "source": [
    "sns.distplot(data['store'])"
   ]
  },
  {
   "cell_type": "code",
   "execution_count": 47,
   "id": "cb15054c-2093-450d-88d2-68a8df96a2ff",
   "metadata": {},
   "outputs": [
    {
     "data": {
      "text/plain": [
       "<AxesSubplot:ylabel='store'>"
      ]
     },
     "execution_count": 47,
     "metadata": {},
     "output_type": "execute_result"
    },
    {
     "data": {
      "image/png": "[encoded data removed]",
      "text/plain": [
       "<Figure size 432x288 with 1 Axes>"
      ]
     },
     "metadata": {
      "needs_background": "light"
     },
     "output_type": "display_data"
    }
   ],
   "source": [
    "sns.boxplot(data=data,y='store')"
   ]
  },
  {
   "cell_type": "code",
   "execution_count": 47,
   "id": "45ed5c93-cf45-4b5a-8de3-f76ded5453da",
   "metadata": {},
   "outputs": [],
   "source": [
    "import numpy as np\n",
    "from sklearn.linear_model import HuberRegressor, LinearRegression\n",
    "from sklearn.datasets import make_regression\n",
    "from sklearn.metrics import r2_score\n",
    "from sklearn.model_selection import train_test_split\n",
    "rng = np.random.RandomState(0)\n",
    "X, y, coef = make_regression(n_samples=200, n_features=2, noise=4.0, coef=True, random_state=0)\n",
    "X_train,X_test,y_train,y_test=train_test_split(X,y,test_size=0.3,random_state=42)"
   ]
  },
  {
   "cell_type": "code",
   "execution_count": 48,
   "id": "6a115de8-cfb7-4190-8f1f-2d19d1af3d78",
   "metadata": {},
   "outputs": [
    {
     "name": "stdout",
     "output_type": "stream",
     "text": [
      "0.986759148505146\n",
      "0.9914316533446385\n",
      "True coefficients: [20.4923687  34.16981149]\n",
      "Huber coefficients: [20.29843693 33.78037215]\n",
      "Linear Regression coefficients: [20.51456726 33.96746415]\n"
     ]
    }
   ],
   "source": [
    "huber = HuberRegressor().fit(X_train, y_train)\n",
    "print(huber.score(X_train, y_train))\n",
    "\n",
    "y_predict=huber.predict(X_test)\n",
    "print(r2_score(y_test,y_predict))\n",
    "\n",
    "linear = LinearRegression().fit(X_train, y_train)\n",
    "print(\"True coefficients:\", coef)\n",
    "\n",
    "print(\"Huber coefficients:\", huber.coef_)\n",
    "\n",
    "print(\"Linear Regression coefficients:\", linear.coef_)"
   ]
  },
  {
   "cell_type": "code",
   "execution_count": 49,
   "id": "249b4b6d-8925-4669-a047-9ef84fd190d5",
   "metadata": {},
   "outputs": [
    {
     "data": {
      "text/plain": [
       "0.9868536800018848"
      ]
     },
     "execution_count": 49,
     "metadata": {},
     "output_type": "execute_result"
    }
   ],
   "source": [
    "linear.score(X_train,y_train)"
   ]
  },
  {
   "cell_type": "code",
   "execution_count": null,
   "id": "02eb2728-23a7-4098-bdc5-a97d789afdcb",
   "metadata": {},
   "outputs": [],
   "source": []
  },
  {
   "cell_type": "code",
   "execution_count": null,
   "id": "daef15b2-a885-4216-80a1-8f70c8e08ef6",
   "metadata": {},
   "outputs": [],
   "source": []
  },
  {
   "cell_type": "code",
   "execution_count": null,
   "id": "7915d293-8138-4172-9d2f-3b6a165cd6fe",
   "metadata": {},
   "outputs": [],
   "source": []
  },
  {
   "cell_type": "code",
   "execution_count": null,
   "id": "0c13cead-3c84-4185-b10c-ee8cd31b3216",
   "metadata": {},
   "outputs": [],
   "source": []
  },
  {
   "cell_type": "code",
   "execution_count": null,
   "id": "2660b8b0-ca87-4009-b0a9-e5a8de90b192",
   "metadata": {},
   "outputs": [],
   "source": []
  },
  {
   "cell_type": "code",
   "execution_count": null,
   "id": "266acb3d-ed61-4762-b5bc-52b496d912d1",
   "metadata": {},
   "outputs": [],
   "source": []
  },
  {
   "cell_type": "code",
   "execution_count": null,
   "id": "ec3ab398-0c04-4b43-8519-67756165c1a2",
   "metadata": {},
   "outputs": [],
   "source": []
  },
  {
   "cell_type": "code",
   "execution_count": null,
   "id": "6c7cd8b0-f12e-4da7-b532-a47e0569cf2d",
   "metadata": {},
   "outputs": [],
   "source": []
  },
  {
   "cell_type": "code",
   "execution_count": null,
   "id": "f5131769-c31a-450c-90cc-3afa0f6aced0",
   "metadata": {},
   "outputs": [],
   "source": []
  },
  {
   "cell_type": "code",
   "execution_count": null,
   "id": "bdc9a03e-b70a-44ff-b4a4-f3a597a9322a",
   "metadata": {},
   "outputs": [],
   "source": []
  },
  {
   "cell_type": "code",
   "execution_count": null,
   "id": "4f718bcb-a2fc-4269-901e-98a00aab8d05",
   "metadata": {},
   "outputs": [],
   "source": []
  },
  {
   "cell_type": "code",
   "execution_count": null,
   "id": "04b65318-a662-4c43-a835-a3ca5e5bfca8",
   "metadata": {},
   "outputs": [],
   "source": []
  },
  {
   "cell_type": "code",
   "execution_count": null,
   "id": "cf7f8c13-5301-47b2-b3ab-b94aa51cc8fd",
   "metadata": {},
   "outputs": [],
   "source": []
  },
  {
   "cell_type": "code",
   "execution_count": null,
   "id": "6f0e0dce-fc8c-4dec-ba50-b5f3af445553",
   "metadata": {},
   "outputs": [],
   "source": []
  },
  {
   "cell_type": "code",
   "execution_count": null,
   "id": "ef584ba9-5a0f-41b1-b1d9-e746c3a21503",
   "metadata": {},
   "outputs": [],
   "source": []
  },
  {
   "cell_type": "code",
   "execution_count": null,
   "id": "71ad2c50-3c77-4dc8-9a01-931a4ce96d7c",
   "metadata": {},
   "outputs": [],
   "source": []
  },
  {
   "cell_type": "code",
   "execution_count": null,
   "id": "d4f2a2d6-e4c7-44ca-8820-3d58a02b29d8",
   "metadata": {},
   "outputs": [],
   "source": []
  },
  {
   "cell_type": "code",
   "execution_count": null,
   "id": "a9922049-7aad-4cce-a1ac-1a668a7e9d41",
   "metadata": {},
   "outputs": [],
   "source": []
  },
  {
   "cell_type": "code",
   "execution_count": null,
   "id": "90c1842b-d980-4b55-ab8c-4bcc76769253",
   "metadata": {},
   "outputs": [],
   "source": []
  },
  {
   "cell_type": "code",
   "execution_count": null,
   "id": "c19acb7d-7a99-430d-be15-dceb98cf44a2",
   "metadata": {},
   "outputs": [],
   "source": []
  },
  {
   "cell_type": "code",
   "execution_count": null,
   "id": "2e1e2756-7889-4455-916e-57aeba8e101a",
   "metadata": {},
   "outputs": [],
   "source": []
  },
  {
   "cell_type": "code",
   "execution_count": null,
   "id": "34f562ab-1240-4857-9a25-be5e2589a953",
   "metadata": {},
   "outputs": [],
   "source": []
  },
  {
   "cell_type": "code",
   "execution_count": null,
   "id": "dd69813d-2686-4e14-a886-bcd2a260d625",
   "metadata": {},
   "outputs": [],
   "source": []
  },
  {
   "cell_type": "code",
   "execution_count": null,
   "id": "6d87beaf-197e-4668-ad38-f3bd9589f86b",
   "metadata": {},
   "outputs": [],
   "source": []
  },
  {
   "cell_type": "code",
   "execution_count": null,
   "id": "98d1eadb-dc13-48c6-9bae-64af24b8325c",
   "metadata": {},
   "outputs": [],
   "source": []
  },
  {
   "cell_type": "code",
   "execution_count": null,
   "id": "5833dd19-6643-4d97-b1b8-fcdb1f111321",
   "metadata": {},
   "outputs": [],
   "source": []
  },
  {
   "cell_type": "code",
   "execution_count": null,
   "id": "b84e069d-5781-421a-9c34-8d3275144b47",
   "metadata": {},
   "outputs": [],
   "source": []
  },
  {
   "cell_type": "code",
   "execution_count": null,
   "id": "1f3fd29d-7586-46b5-82d7-95a16ff57798",
   "metadata": {},
   "outputs": [],
   "source": []
  },
  {
   "cell_type": "code",
   "execution_count": null,
   "id": "03e2178a-44fb-45f4-b427-435676c79519",
   "metadata": {},
   "outputs": [],
   "source": []
  },
  {
   "cell_type": "code",
   "execution_count": null,
   "id": "cf827989-96fa-4fe6-b443-e44f75d809ad",
   "metadata": {},
   "outputs": [],
   "source": []
  },
  {
   "cell_type": "code",
   "execution_count": null,
   "id": "945bdb51-38c4-40ef-9f0d-dc12d4d1b0a0",
   "metadata": {},
   "outputs": [],
   "source": []
  },
  {
   "cell_type": "code",
   "execution_count": null,
   "id": "a0c31354-f334-4f43-b7c6-e9d8d90e72b2",
   "metadata": {},
   "outputs": [],
   "source": []
  },
  {
   "cell_type": "code",
   "execution_count": null,
   "id": "abdb73fa-ce45-442d-8f3c-77cad025a177",
   "metadata": {},
   "outputs": [],
   "source": []
  },
  {
   "cell_type": "code",
   "execution_count": null,
   "id": "750ffc61-acf2-4877-98f9-a75ab8ecea72",
   "metadata": {},
   "outputs": [],
   "source": []
  },
  {
   "cell_type": "code",
   "execution_count": null,
   "id": "a8ba77a3-db1c-4a06-8fad-2b1e49707368",
   "metadata": {},
   "outputs": [],
   "source": []
  },
  {
   "cell_type": "code",
   "execution_count": null,
   "id": "baa4b4d2-a191-41cf-82fc-3da7e949a208",
   "metadata": {},
   "outputs": [],
   "source": []
  },
  {
   "cell_type": "code",
   "execution_count": null,
   "id": "59e2a33f-681a-4533-9b4e-b4ac4a192c66",
   "metadata": {},
   "outputs": [],
   "source": []
  },
  {
   "cell_type": "code",
   "execution_count": null,
   "id": "5ad8d031-c66a-4550-933c-f98aa96d42cd",
   "metadata": {},
   "outputs": [],
   "source": []
  },
  {
   "cell_type": "code",
   "execution_count": null,
   "id": "1d2f2a2c-3536-4b64-a68b-edf8c52aadc2",
   "metadata": {},
   "outputs": [],
   "source": []
  },
  {
   "cell_type": "code",
   "execution_count": null,
   "id": "81a13840-dc9d-48d1-a2df-2a1c51723066",
   "metadata": {},
   "outputs": [],
   "source": []
  },
  {
   "cell_type": "code",
   "execution_count": null,
   "id": "aec200eb-0cdf-4e4e-8edc-76c433a1588d",
   "metadata": {},
   "outputs": [],
   "source": []
  },
  {
   "cell_type": "code",
   "execution_count": null,
   "id": "0abde965-7b5e-434a-b995-7c0a2dc36a0e",
   "metadata": {},
   "outputs": [],
   "source": []
  },
  {
   "cell_type": "code",
   "execution_count": null,
   "id": "85a9f689-993b-40fb-a3b6-b5a3bb60b138",
   "metadata": {},
   "outputs": [],
   "source": []
  },
  {
   "cell_type": "code",
   "execution_count": null,
   "id": "2c9815f2-f4b6-4b9a-b6e7-499861414aa7",
   "metadata": {},
   "outputs": [],
   "source": []
  },
  {
   "cell_type": "code",
   "execution_count": null,
   "id": "4ec5749a-1cfa-4668-b773-16bd48e1cb8f",
   "metadata": {},
   "outputs": [],
   "source": []
  },
  {
   "cell_type": "code",
   "execution_count": null,
   "id": "1d883a52-5825-4504-bb7a-a698609b3d76",
   "metadata": {},
   "outputs": [],
   "source": []
  },
  {
   "cell_type": "code",
   "execution_count": null,
   "id": "4e567bce-1949-4ec1-9e44-3356ccf69b62",
   "metadata": {},
   "outputs": [],
   "source": []
  },
  {
   "cell_type": "code",
   "execution_count": null,
   "id": "c031dc07-ca5b-4c3a-a9c6-a41afd8c32d8",
   "metadata": {},
   "outputs": [],
   "source": []
  },
  {
   "cell_type": "code",
   "execution_count": null,
   "id": "fd57cfe6-ca91-422a-ba06-cdc5f2bdd0ea",
   "metadata": {},
   "outputs": [],
   "source": []
  },
  {
   "cell_type": "code",
   "execution_count": null,
   "id": "0ccb488d-6f1b-4408-aada-ec3da4bcf7d4",
   "metadata": {},
   "outputs": [],
   "source": []
  },
  {
   "cell_type": "code",
   "execution_count": null,
   "id": "31ec2a45-f68a-40cb-b0ba-2e8387b41ddc",
   "metadata": {},
   "outputs": [],
   "source": []
  },
  {
   "cell_type": "code",
   "execution_count": null,
   "id": "3f6c87aa-7dc3-4b53-9010-b056b07845c1",
   "metadata": {},
   "outputs": [],
   "source": []
  },
  {
   "cell_type": "code",
   "execution_count": null,
   "id": "96499f80-af0b-4ddf-92b9-bad36a8930d1",
   "metadata": {},
   "outputs": [],
   "source": []
  },
  {
   "cell_type": "code",
   "execution_count": null,
   "id": "aa3f3385-1c25-46a3-9eb3-caab17781872",
   "metadata": {},
   "outputs": [],
   "source": []
  },
  {
   "cell_type": "code",
   "execution_count": null,
   "id": "e514afee-1fb2-469d-8cdd-0b5fb0c75116",
   "metadata": {},
   "outputs": [],
   "source": []
  },
  {
   "cell_type": "code",
   "execution_count": null,
   "id": "3e934cc4-d746-4b2a-93bc-884d51bec50d",
   "metadata": {},
   "outputs": [],
   "source": []
  },
  {
   "cell_type": "code",
   "execution_count": null,
   "id": "2f4d4732-9327-40b3-b4b5-768666d6d23e",
   "metadata": {},
   "outputs": [],
   "source": []
  },
  {
   "cell_type": "code",
   "execution_count": null,
   "id": "96487af6-6d60-48ed-9118-8713e8b86270",
   "metadata": {},
   "outputs": [],
   "source": []
  },
  {
   "cell_type": "code",
   "execution_count": null,
   "id": "aebfcc78-1d2e-4732-b8ed-f02f898eb06e",
   "metadata": {},
   "outputs": [],
   "source": []
  },
  {
   "cell_type": "code",
   "execution_count": null,
   "id": "717b12fc-fbc2-4dce-b38e-471e39cd7d27",
   "metadata": {},
   "outputs": [],
   "source": []
  },
  {
   "cell_type": "code",
   "execution_count": null,
   "id": "ebc0db9d-958f-4040-9eb4-7e9980d5ba55",
   "metadata": {},
   "outputs": [],
   "source": []
  },
  {
   "cell_type": "code",
   "execution_count": null,
   "id": "c4af5017-a585-4af3-815f-894f18ffb95a",
   "metadata": {},
   "outputs": [],
   "source": []
  },
  {
   "cell_type": "code",
   "execution_count": null,
   "id": "44dc8782-8417-4792-b1ba-72290205410f",
   "metadata": {},
   "outputs": [],
   "source": []
  },
  {
   "cell_type": "code",
   "execution_count": null,
   "id": "c147cf84-dc73-44fc-bc78-d524b5e000d2",
   "metadata": {},
   "outputs": [],
   "source": []
  },
  {
   "cell_type": "code",
   "execution_count": null,
   "id": "1411a7a2-1e5f-4c90-98a5-4b371ab5c547",
   "metadata": {},
   "outputs": [],
   "source": []
  },
  {
   "cell_type": "code",
   "execution_count": null,
   "id": "aa655f7f-e09f-4355-9890-66a243cf7ee0",
   "metadata": {},
   "outputs": [],
   "source": []
  },
  {
   "cell_type": "code",
   "execution_count": null,
   "id": "becba89b-9c75-4e9f-bd3f-8ecd3ef22acf",
   "metadata": {},
   "outputs": [],
   "source": []
  },
  {
   "cell_type": "code",
   "execution_count": null,
   "id": "81f6ed8e-7761-4141-8b27-43775bc74c2b",
   "metadata": {},
   "outputs": [],
   "source": []
  },
  {
   "cell_type": "code",
   "execution_count": null,
   "id": "b7ebb8d8-e9e7-447e-8e9b-bcd5eee5e817",
   "metadata": {},
   "outputs": [],
   "source": []
  },
  {
   "cell_type": "code",
   "execution_count": null,
   "id": "b8284a85-cf3d-4834-bac0-74daa5604c19",
   "metadata": {},
   "outputs": [],
   "source": []
  },
  {
   "cell_type": "code",
   "execution_count": null,
   "id": "c83b676d-dab7-45e7-bded-96133965bcf1",
   "metadata": {},
   "outputs": [],
   "source": []
  },
  {
   "cell_type": "code",
   "execution_count": null,
   "id": "97fd78aa-b4f5-4dbe-90d6-bc2ad55cb2cb",
   "metadata": {},
   "outputs": [],
   "source": []
  },
  {
   "cell_type": "code",
   "execution_count": null,
   "id": "cdc45bde-e1cb-4de0-9082-df71c8d624ba",
   "metadata": {},
   "outputs": [],
   "source": []
  },
  {
   "cell_type": "code",
   "execution_count": null,
   "id": "de78db4e-4dc8-4c52-a1c8-2623737c856e",
   "metadata": {},
   "outputs": [],
   "source": []
  },
  {
   "cell_type": "code",
   "execution_count": null,
   "id": "12f11229-46c3-4eb1-9792-f9d764801500",
   "metadata": {},
   "outputs": [],
   "source": []
  },
  {
   "cell_type": "code",
   "execution_count": null,
   "id": "156f89cf-20fb-4ccb-8273-e1e6b547234c",
   "metadata": {},
   "outputs": [],
   "source": []
  },
  {
   "cell_type": "code",
   "execution_count": null,
   "id": "33e4a8d3-37a3-4ef7-8a2d-f6ef30a8d4d0",
   "metadata": {},
   "outputs": [],
   "source": []
  },
  {
   "cell_type": "code",
   "execution_count": null,
   "id": "b436c87c-2e46-46f0-bbbb-90aef1048383",
   "metadata": {},
   "outputs": [],
   "source": []
  },
  {
   "cell_type": "code",
   "execution_count": null,
   "id": "a121792a-ca57-4c7f-b8e5-caa36a4e3a50",
   "metadata": {},
   "outputs": [],
   "source": []
  },
  {
   "cell_type": "code",
   "execution_count": null,
   "id": "7e1a980c-b29e-4156-9db9-b9b3e6f277eb",
   "metadata": {},
   "outputs": [],
   "source": []
  },
  {
   "cell_type": "code",
   "execution_count": null,
   "id": "331cb9f0-55c1-49ef-a886-82636e27adef",
   "metadata": {},
   "outputs": [],
   "source": []
  },
  {
   "cell_type": "code",
   "execution_count": null,
   "id": "f8394069-ab8c-49ff-bc3c-d8b0d00f69e6",
   "metadata": {},
   "outputs": [],
   "source": []
  }
 ],
 "metadata": {
  "kernelspec": {
   "display_name": "Python 3 (ipykernel)",
   "language": "python",
   "name": "python3"
  },
  "language_info": {
   "codemirror_mode": {
    "name": "ipython",
    "version": 3
   },
   "file_extension": ".py",
   "mimetype": "text/x-python",
   "name": "python",
   "nbconvert_exporter": "python",
   "pygments_lexer": "ipython3",
   "version": "3.9.7"
  }
 },
 "nbformat": 4,
 "nbformat_minor": 5
}
